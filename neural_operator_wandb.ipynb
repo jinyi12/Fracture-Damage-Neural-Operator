{
 "cells": [
  {
   "cell_type": "code",
   "execution_count": 1,
   "metadata": {},
   "outputs": [],
   "source": [
    "import numpy as np\n",
    "import pandas as pd\n",
    "import matplotlib.pyplot as plt\n",
    "import torch\n",
    "import torch.nn as nn\n",
    "import torch.nn.functional as F\n",
    "import torch.optim as optim\n",
    "import dadaptation\n",
    "import random\n",
    "\n",
    "\n",
    "from torch.optim import AdamW\n",
    "from torch.utils.data import Dataset, DataLoader\n",
    "from torchvision import transforms, utils\n",
    "\n",
    "import h5py\n",
    "import os\n",
    "import sys\n",
    "import pickle\n",
    "import json\n",
    "\n",
    "from utilities3 import *\n",
    "from sklearn.model_selection import train_test_split\n",
    "from Adam import Adam\n",
    "from timeit import default_timer\n",
    "from collections import OrderedDict\n",
    "\n",
    "# import local modules from FNO2D.py\n",
    "import FNO2D\n",
    "\n",
    "\n",
    "import wandb\n",
    "import datetime"
   ]
  },
  {
   "attachments": {},
   "cell_type": "markdown",
   "metadata": {},
   "source": [
    "# Loading dataset into an Artifact in wandb\n",
    "\n",
    "First step is to load the dataset from .csv files, and add it as an artifact. Artifacts are useful for:\n",
    "1) Dataset versioning\n",
    "2) Supports deduplication which minimizes the storage space used when generating versions of the dataset."
   ]
  },
  {
   "cell_type": "code",
   "execution_count": 11,
   "metadata": {},
   "outputs": [],
   "source": [
    "gc_path = \"./Data/gc_samples_filtered.csv\"\n",
    "d_path = \"./Data/d_samples_filtered.csv\"\n",
    "coordinates_path = \"./Data/coordinates_n\"\n",
    "\n",
    "damage_x_path = \"./Data/x_ver\"\n",
    "damage_y_path = \"./Data/y_ver\""
   ]
  },
  {
   "cell_type": "code",
   "execution_count": 12,
   "metadata": {},
   "outputs": [],
   "source": [
    "# read data from csv file\n",
    "gc = pd.read_csv(gc_path, header=None)\n",
    "d = pd.read_csv(d_path, header=None)\n",
    "\n",
    "# coordinates data from csv file\n",
    "coordinates = pd.read_csv(coordinates_path, header=None)\n",
    "\n",
    "# output mesh coordinates\n",
    "damage_x = pd.read_csv(damage_x_path, header=None)\n",
    "damage_y = pd.read_csv(damage_y_path, header=None)\n"
   ]
  },
  {
   "cell_type": "code",
   "execution_count": 13,
   "metadata": {},
   "outputs": [],
   "source": [
    "# concatenate damage_x and damage_y\n",
    "damage_xy = np.concatenate((damage_x, damage_y), axis=1)"
   ]
  },
  {
   "cell_type": "code",
   "execution_count": 14,
   "metadata": {},
   "outputs": [],
   "source": [
    "# create numpy array with shape (len(gc), gc.shape[1], 2)\n",
    "input_mesh = np.zeros((len(gc), gc.shape[1], 2))\n",
    "damage_mesh = np.zeros((len(gc), damage_xy.shape[0], 2))\n",
    "\n",
    "# for each sample in input_mesh, add the coordinates\n",
    "for i in range(len(gc)):\n",
    "    input_mesh[i, :, :] = coordinates\n",
    "    damage_mesh[i, :, :] = damage_xy\n",
    "    \n",
    "# add gc to the last dimension of input_mesh to have shape of (len(gc), gc.shape[1], 3)\n",
    "input_data = np.concatenate((input_mesh, np.expand_dims(gc, axis=2)), axis=2)\n",
    "input_data = torch.from_numpy(input_data).float()\n",
    "\n",
    "damage_data = np.concatenate((damage_mesh, np.expand_dims(d, axis=2)), axis=2)\n",
    "damage_data = torch.from_numpy(damage_data).float()"
   ]
  },
  {
   "cell_type": "code",
   "execution_count": 15,
   "metadata": {},
   "outputs": [
    {
     "data": {
      "text/html": [
       "Tracking run with wandb version 0.13.9"
      ],
      "text/plain": [
       "<IPython.core.display.HTML object>"
      ]
     },
     "metadata": {},
     "output_type": "display_data"
    },
    {
     "data": {
      "text/html": [
       "Run data is saved locally in <code>/Users/jinyiyong/Documents/Duke/Fracture-Damage-Neural-Operator/wandb/run-20230206_105425-ag7q31af</code>"
      ],
      "text/plain": [
       "<IPython.core.display.HTML object>"
      ]
     },
     "metadata": {},
     "output_type": "display_data"
    },
    {
     "data": {
      "text/html": [
       "Syncing run <strong><a href=\"https://wandb.ai/jyyresearch/FNO2D/runs/ag7q31af\" target=\"_blank\">fanciful-pond-13</a></strong> to <a href=\"https://wandb.ai/jyyresearch/FNO2D\" target=\"_blank\">Weights & Biases</a> (<a href=\"https://wandb.me/run\" target=\"_blank\">docs</a>)<br/>"
      ],
      "text/plain": [
       "<IPython.core.display.HTML object>"
      ]
     },
     "metadata": {},
     "output_type": "display_data"
    },
    {
     "data": {
      "text/html": [
       " View project at <a href=\"https://wandb.ai/jyyresearch/FNO2D\" target=\"_blank\">https://wandb.ai/jyyresearch/FNO2D</a>"
      ],
      "text/plain": [
       "<IPython.core.display.HTML object>"
      ]
     },
     "metadata": {},
     "output_type": "display_data"
    },
    {
     "data": {
      "text/html": [
       " View run at <a href=\"https://wandb.ai/jyyresearch/FNO2D/runs/ag7q31af\" target=\"_blank\">https://wandb.ai/jyyresearch/FNO2D/runs/ag7q31af</a>"
      ],
      "text/plain": [
       "<IPython.core.display.HTML object>"
      ]
     },
     "metadata": {},
     "output_type": "display_data"
    }
   ],
   "source": [
    "run = wandb.init(project=\"FNO2D\", entity=\"jyyresearch\", job_type=\"upload\")"
   ]
  },
  {
   "cell_type": "code",
   "execution_count": 37,
   "metadata": {},
   "outputs": [],
   "source": [
    "raw_data_at = wandb.Artifact(\"fracture-damage-raw-data\", type=\"raw_data\")"
   ]
  },
  {
   "attachments": {},
   "cell_type": "markdown",
   "metadata": {},
   "source": [
    "### Convert dataset to hdf5 format for efficient storage"
   ]
  },
  {
   "cell_type": "code",
   "execution_count": 17,
   "metadata": {},
   "outputs": [],
   "source": [
    "# convert input_data and damage_data to h5py file\n",
    "input_data_h5 = input_data.numpy()\n",
    "damage_data_h5 = damage_data.numpy()\n",
    "\n",
    "# save h5py file\n",
    "with h5py.File(\"Data/input_data.h5\", \"w\") as f:\n",
    "    f.create_dataset(\"input_data\", data=input_data_h5)\n",
    "    \n",
    "with h5py.File(\"Data/damage_data.h5\", \"w\") as f:\n",
    "    f.create_dataset(\"damage_data\", data=damage_data_h5)"
   ]
  },
  {
   "cell_type": "code",
   "execution_count": 39,
   "metadata": {},
   "outputs": [
    {
     "data": {
      "text/plain": [
       "ArtifactManifestEntry(path='damage_data', digest='pa0A9QJaDxjKYPrY3FclPg==', ref=None, birth_artifact_id=None, size=150782360, extra={}, local_path='/Users/jinyiyong/Library/Application Support/wandb/artifacts/staging/tmpj5t3y_iz')"
      ]
     },
     "execution_count": 39,
     "metadata": {},
     "output_type": "execute_result"
    }
   ],
   "source": [
    "# add h5py file to artifact\n",
    "raw_data_at.add_file(\"Data/input_data.h5\", name=\"input_data\")\n",
    "raw_data_at.add_file(\"Data/damage_data.h5\", name=\"damage_data\")"
   ]
  },
  {
   "cell_type": "code",
   "execution_count": 40,
   "metadata": {},
   "outputs": [],
   "source": [
    "run.log_artifact(raw_data_at)\n",
    "run.finish()"
   ]
  },
  {
   "cell_type": "code",
   "execution_count": 41,
   "metadata": {},
   "outputs": [
    {
     "name": "stderr",
     "output_type": "stream",
     "text": [
      "\u001b[34m\u001b[1mwandb\u001b[0m: Downloading large artifact fracture-damage-raw-data:latest, 423.10MB. 2 files... \n",
      "\u001b[34m\u001b[1mwandb\u001b[0m:   2 of 2 files downloaded.  \n",
      "Done. 0:0:0.0\n"
     ]
    }
   ],
   "source": [
    "raw_data = run.use_artifact('jyyresearch/FNO2D/fracture-damage-raw-data:latest', type='raw_data')\n",
    "raw_data_dir = raw_data.download()"
   ]
  },
  {
   "cell_type": "code",
   "execution_count": 58,
   "metadata": {},
   "outputs": [],
   "source": [
    "input_data = h5py.File(raw_data_dir + \"/input_data\", \"r\")\n",
    "damage_data = h5py.File(raw_data_dir + \"/damage_data\", \"r\")"
   ]
  },
  {
   "cell_type": "code",
   "execution_count": 2,
   "metadata": {},
   "outputs": [],
   "source": [
    "DEVICE = 'gpu'\n",
    "PROJECT_NAME = 'FNO2D'\n",
    "\n",
    "# Set the random seeds to improve reproducibility by removing stochasticity\n",
    "def set_seeds(seed):\n",
    "    random.seed(seed)\n",
    "    np.random.seed(seed)\n",
    "    torch.manual_seed(seed)\n",
    "    torch.cuda.manual_seed(seed)\n",
    "    torch.backends.cudnn.benchmark = False # Force cuDNN to use a consistent convolution algorithm\n",
    "    torch.backends.cudnn.deterministic = True # Force cuDNN to use deterministic algorithms if available\n",
    "    torch.use_deterministic_algorithms(True) # Force torch to use deterministic algorithms if available\n",
    "\n",
    "set_seeds(0)"
   ]
  },
  {
   "cell_type": "code",
   "execution_count": 3,
   "metadata": {},
   "outputs": [],
   "source": [
    "config = {\n",
    "    'train_val_split': [0.80, 0.20], # These must sum to 1.0\n",
    "    'batch_size' : 32, # Num samples to average over for gradient updates\n",
    "    'EPOCHS' : 200, # Num times to iterate over the entire dataset\n",
    "    'LEARNING_RATE' : 1e-3, # Learning rate for the optimizer\n",
    "    'BETA1' : 0.9, # Beta1 parameter for the Adam optimizer\n",
    "    'BETA2' : 0.999, # Beta2 parameter for the Adam optimizer\n",
    "    'WEIGHT_DECAY' : 1e-4, # Weight decay parameter for the Adam optimizer\n",
    "}\n"
   ]
  },
  {
   "attachments": {},
   "cell_type": "markdown",
   "metadata": {},
   "source": [
    "### define some helper functions for transforming numpy to tensors"
   ]
  },
  {
   "cell_type": "code",
   "execution_count": 4,
   "metadata": {},
   "outputs": [],
   "source": [
    "class ToTensor(object):\n",
    "    \"\"\"Convert numpy arrays to tensor arrays\n",
    "    \"\"\"\n",
    "    def __init__(self, device=None):\n",
    "        if device is None:\n",
    "            device = \"cpu\"\n",
    "        self.device = device\n",
    "    \n",
    "    def __call__(self, data):\n",
    "        if self.device == \"cpu\":\n",
    "            return torch.from_numpy(data)\n",
    "        else:\n",
    "            # to overlap data transfers with computation, use non_blocking=True\n",
    "            return torch.from_numpy(data).to(self.device, non_blocking=True)"
   ]
  },
  {
   "cell_type": "code",
   "execution_count": 5,
   "metadata": {},
   "outputs": [],
   "source": [
    "def get_transforms(transform_dict):\n",
    "    \"\"\"\n",
    "    Given a dictionary of transform parameters, return a list of class instances for each transform\n",
    "    Arguments:\n",
    "        transform_dict (OrderedDict) with optional keys:\n",
    "            ToTensor (dict) if present, requires the 'device' key that indicates the PyTorch device\n",
    "    Returns:\n",
    "        composed_transforms (PyTorch composed transform class) containing the requested transform steps in order\n",
    "    \"\"\"\n",
    "    transform_functions = []\n",
    "    for key in transform_dict.keys():\n",
    "        if key=='ToTensor': # Convert array to a PyTorch Tensor\n",
    "            transform_functions.append(ToTensor(\n",
    "                transform_dict[key]['device']\n",
    "            ))\n",
    "        \n",
    "    composed_transforms = transforms.Compose(transform_functions)\n",
    "    return composed_transforms"
   ]
  },
  {
   "cell_type": "code",
   "execution_count": 6,
   "metadata": {},
   "outputs": [],
   "source": [
    "# # create train and test dataset from input_data and damage_data\n",
    "# train_dataset = torch.utils.data.TensorDataset(input_data[train_val_indices[0]], damage_data[train_val_indices[0]])\n",
    "# val_dataset = torch.utils.data.TensorDataset(input_data[train_val_indices[1]], damage_data[train_val_indices[1]])\n"
   ]
  },
  {
   "cell_type": "code",
   "execution_count": 7,
   "metadata": {},
   "outputs": [],
   "source": [
    "# create a torch dataset\n",
    "class FractureDamageDataset(torch.utils.data.Dataset):\n",
    "    def __init__(self, input_data, damage_data, transform=None):\n",
    "        self.input_data = input_data\n",
    "        self.damage_data = damage_data\n",
    "        self.transform = transform\n",
    "\n",
    "    def __len__(self):\n",
    "        return len(self.input_data)\n",
    "\n",
    "    def __getitem__(self, idx):\n",
    "        if torch.is_tensor(idx):\n",
    "            idx = idx.tolist()\n",
    "        sample = (self.input_data[idx], self.damage_data[idx])\n",
    "        if self.transform:\n",
    "            sample = self.transform(sample)\n",
    "        return sample"
   ]
  },
  {
   "cell_type": "code",
   "execution_count": 8,
   "metadata": {},
   "outputs": [],
   "source": [
    "def make_split_artifact(run, train_rows, val_rows):\n",
    "    \"\"\"\n",
    "    Creates a w&b artifact that contains the train and validation rows of the raw data\n",
    "        run (wandb run) returned from wandb.init()\n",
    "        raw_data_table (wandb Table) that contains your original tabular data\n",
    "        train_rows (list of ints) indices that reference the training rows in the raw_data_table\n",
    "        val_rows (list of ints) indices that reference the validation rows in the raw_data_table\n",
    "        test_rows (list of ints) indices that reference the test rows in the raw_data_table\n",
    "    \"\"\"\n",
    "    split_artifact = wandb.Artifact(\n",
    "        'data-splits', type='dataset',\n",
    "        description='Train, validation, test dataset splits')\n",
    "\n",
    "    # Our data split artifact will only store index references to the original dataset to save space\n",
    "    split_artifact.add(wandb.Table(\n",
    "        data=pd.DataFrame(train_rows, columns=['indices'])), 'train-data')\n",
    "\n",
    "    split_artifact.add(wandb.Table(\n",
    "        columns=['source'],\n",
    "        data=pd.DataFrame(val_rows, columns=['indices'])), 'val-data')\n",
    "\n",
    "    run.log_artifact(split_artifact)\n",
    "\n",
    "\n",
    "def make_loaders(config, input_data, damage_data):\n",
    "    \"\"\"\n",
    "    Makes data loaders using a artifact containing the dataset splits (created using the make_split_artifact() function)\n",
    "    The function assumes that you have created a data-splits artifact and a data-transforms artifact\n",
    "    Arguments:\n",
    "        config [dict] containing keys:\n",
    "            batch_size (int) amount of rows (i.e. data instances) to be delivered in a single batch\n",
    "    Returns:\n",
    "        train_loader (PyTorch DataLoader) containing the training data\n",
    "        val_loader (PyTorch DataLoader) containing the validation data\n",
    "    \"\"\"\n",
    "    with wandb.init(project=PROJECT_NAME, job_type='package-data', config=config) as run:\n",
    "        # Load transforms\n",
    "        transform_dir = run.use_artifact('data-transforms:latest').download()\n",
    "        transform_dict = json.load(open(os.path.join(transform_dir, 'transforms.txt')), object_pairs_hook=OrderedDict)\n",
    "        composed_transforms = get_transforms(transform_dict)\n",
    "\n",
    "        split_artifact = run.use_artifact('data-splits:latest')\n",
    "\n",
    "        # Load splits\n",
    "        train_rows = split_artifact.get('train-data').get_column('indices', convert_to='numpy')\n",
    "        val_rows = split_artifact.get('val-data').get_column('indices', convert_to='numpy')\n",
    "\n",
    "        # Reformat data to (inputs, labels)\n",
    "        train_loader = DataLoader(FractureDamageDataset(\n",
    "            input_data[train_rows], damage_data[train_rows], transform=composed_transforms),\n",
    "            batch_size=config['batch_size'],\n",
    "            shuffle=True,\n",
    "            num_workers=0\n",
    "        )\n",
    "        val_loader = DataLoader(FractureDamageDataset(\n",
    "            input_data[val_rows], damage_data[val_rows], transform=composed_transforms),\n",
    "            batch_size=config['batch_size'],\n",
    "            batch_sampler=None,\n",
    "            shuffle=False,\n",
    "            num_workers=0)\n",
    "    \n",
    "    return train_loader, val_loader"
   ]
  },
  {
   "cell_type": "code",
   "execution_count": 9,
   "metadata": {},
   "outputs": [
    {
     "name": "stderr",
     "output_type": "stream",
     "text": [
      "Failed to detect the name of this notebook, you can set it manually with the WANDB_NOTEBOOK_NAME environment variable to enable code saving.\n",
      "\u001b[34m\u001b[1mwandb\u001b[0m: Currently logged in as: \u001b[33mjyyresearch\u001b[0m (use `wandb login --relogin` to force relogin)\n"
     ]
    },
    {
     "data": {
      "text/html": [
       "wandb version 0.13.9 is available!  To upgrade, please run:\n",
       " $ pip install wandb --upgrade"
      ],
      "text/plain": [
       "<IPython.core.display.HTML object>"
      ]
     },
     "metadata": {},
     "output_type": "display_data"
    },
    {
     "data": {
      "text/html": [
       "Tracking run with wandb version 0.12.15"
      ],
      "text/plain": [
       "<IPython.core.display.HTML object>"
      ]
     },
     "metadata": {},
     "output_type": "display_data"
    },
    {
     "data": {
      "text/html": [
       "Run data is saved locally in <code>/mnt/c/Users/Jin Yi/Documents/ArianaPHD/research/neural_operator/wandb/run-20230206_160734-3peqhp4d</code>"
      ],
      "text/plain": [
       "<IPython.core.display.HTML object>"
      ]
     },
     "metadata": {},
     "output_type": "display_data"
    },
    {
     "data": {
      "text/html": [
       "Syncing run <strong><a href=\"https://wandb.ai/jyyresearch/FNO2D/runs/3peqhp4d\" target=\"_blank\">worthy-armadillo-27</a></strong> to <a href=\"https://wandb.ai/jyyresearch/FNO2D\" target=\"_blank\">Weights & Biases</a> (<a href=\"https://wandb.me/run\" target=\"_blank\">docs</a>)<br/>"
      ],
      "text/plain": [
       "<IPython.core.display.HTML object>"
      ]
     },
     "metadata": {},
     "output_type": "display_data"
    },
    {
     "name": "stderr",
     "output_type": "stream",
     "text": [
      "\u001b[34m\u001b[1mwandb\u001b[0m: Downloading large artifact fracture-damage-raw-data:v3, 423.10MB. 2 files... Done. 0:0:0\n"
     ]
    },
    {
     "data": {
      "text/html": [
       "Waiting for W&B process to finish... <strong style=\"color:green\">(success).</strong>"
      ],
      "text/plain": [
       "<IPython.core.display.HTML object>"
      ]
     },
     "metadata": {},
     "output_type": "display_data"
    },
    {
     "data": {
      "application/vnd.jupyter.widget-view+json": {
       "model_id": "3524c440be7d44bc97d7aa93652692b9",
       "version_major": 2,
       "version_minor": 0
      },
      "text/plain": [
       "VBox(children=(Label(value='0.025 MB of 0.025 MB uploaded (0.000 MB deduped)\\r'), FloatProgress(value=1.0, max…"
      ]
     },
     "metadata": {},
     "output_type": "display_data"
    },
    {
     "data": {
      "text/html": [
       "Synced <strong style=\"color:#cdcd00\">worthy-armadillo-27</strong>: <a href=\"https://wandb.ai/jyyresearch/FNO2D/runs/3peqhp4d\" target=\"_blank\">https://wandb.ai/jyyresearch/FNO2D/runs/3peqhp4d</a><br/>Synced 6 W&B file(s), 0 media file(s), 2 artifact file(s) and 0 other file(s)"
      ],
      "text/plain": [
       "<IPython.core.display.HTML object>"
      ]
     },
     "metadata": {},
     "output_type": "display_data"
    },
    {
     "data": {
      "text/html": [
       "Find logs at: <code>./wandb/run-20230206_160734-3peqhp4d/logs</code>"
      ],
      "text/plain": [
       "<IPython.core.display.HTML object>"
      ]
     },
     "metadata": {},
     "output_type": "display_data"
    }
   ],
   "source": [
    "with wandb.init(project=PROJECT_NAME, job_type=\"split-data\", config=config) as run:\n",
    "\n",
    "    # Define raw data splits\n",
    "    raw_data = run.use_artifact('jyyresearch/FNO2D/fracture-damage-raw-data:v3', type='raw_data')\n",
    "\n",
    "    raw_data_dir = raw_data.download()\n",
    "\n",
    "    # read in the h5 files\n",
    "    input_data = h5py.File(os.path.join(raw_data_dir, 'input_data'), 'r')['input_data'][:]\n",
    "    damage_data = h5py.File(os.path.join(raw_data_dir, 'damage_data'), 'r')['damage_data'][:]\n",
    "\n",
    "    # train test split of input_data and damage_data. Obtain the respective indices\n",
    "    train_val_split = config['train_val_split']\n",
    "    train_val_indices = np.split(np.random.permutation(len(input_data)), [int(train_val_split[0]*len(input_data))])\n",
    "    \n",
    "    make_split_artifact(run, train_val_indices[0], train_val_indices[1])\n",
    "    "
   ]
  },
  {
   "cell_type": "code",
   "execution_count": 10,
   "metadata": {},
   "outputs": [
    {
     "data": {
      "text/html": [
       "wandb version 0.13.9 is available!  To upgrade, please run:\n",
       " $ pip install wandb --upgrade"
      ],
      "text/plain": [
       "<IPython.core.display.HTML object>"
      ]
     },
     "metadata": {},
     "output_type": "display_data"
    },
    {
     "data": {
      "text/html": [
       "Tracking run with wandb version 0.12.15"
      ],
      "text/plain": [
       "<IPython.core.display.HTML object>"
      ]
     },
     "metadata": {},
     "output_type": "display_data"
    },
    {
     "data": {
      "text/html": [
       "Run data is saved locally in <code>/mnt/c/Users/Jin Yi/Documents/ArianaPHD/research/neural_operator/wandb/run-20230206_160758-26ofsp84</code>"
      ],
      "text/plain": [
       "<IPython.core.display.HTML object>"
      ]
     },
     "metadata": {},
     "output_type": "display_data"
    },
    {
     "data": {
      "text/html": [
       "Syncing run <strong><a href=\"https://wandb.ai/jyyresearch/FNO2D/runs/26ofsp84\" target=\"_blank\">valiant-blaze-28</a></strong> to <a href=\"https://wandb.ai/jyyresearch/FNO2D\" target=\"_blank\">Weights & Biases</a> (<a href=\"https://wandb.me/run\" target=\"_blank\">docs</a>)<br/>"
      ],
      "text/plain": [
       "<IPython.core.display.HTML object>"
      ]
     },
     "metadata": {},
     "output_type": "display_data"
    },
    {
     "data": {
      "text/html": [
       "Waiting for W&B process to finish... <strong style=\"color:green\">(success).</strong>"
      ],
      "text/plain": [
       "<IPython.core.display.HTML object>"
      ]
     },
     "metadata": {},
     "output_type": "display_data"
    },
    {
     "data": {
      "application/vnd.jupyter.widget-view+json": {
       "model_id": "8dc2d5b75fc545e88a45ae096d25888d",
       "version_major": 2,
       "version_minor": 0
      },
      "text/plain": [
       "VBox(children=(Label(value='0.001 MB of 0.001 MB uploaded (0.000 MB deduped)\\r'), FloatProgress(value=1.0, max…"
      ]
     },
     "metadata": {},
     "output_type": "display_data"
    },
    {
     "data": {
      "text/html": [
       "Synced <strong style=\"color:#cdcd00\">valiant-blaze-28</strong>: <a href=\"https://wandb.ai/jyyresearch/FNO2D/runs/26ofsp84\" target=\"_blank\">https://wandb.ai/jyyresearch/FNO2D/runs/26ofsp84</a><br/>Synced 5 W&B file(s), 0 media file(s), 0 artifact file(s) and 0 other file(s)"
      ],
      "text/plain": [
       "<IPython.core.display.HTML object>"
      ]
     },
     "metadata": {},
     "output_type": "display_data"
    },
    {
     "data": {
      "text/html": [
       "Find logs at: <code>./wandb/run-20230206_160758-26ofsp84/logs</code>"
      ],
      "text/plain": [
       "<IPython.core.display.HTML object>"
      ]
     },
     "metadata": {},
     "output_type": "display_data"
    },
    {
     "data": {
      "text/html": [
       "wandb version 0.13.9 is available!  To upgrade, please run:\n",
       " $ pip install wandb --upgrade"
      ],
      "text/plain": [
       "<IPython.core.display.HTML object>"
      ]
     },
     "metadata": {},
     "output_type": "display_data"
    },
    {
     "data": {
      "text/html": [
       "Tracking run with wandb version 0.12.15"
      ],
      "text/plain": [
       "<IPython.core.display.HTML object>"
      ]
     },
     "metadata": {},
     "output_type": "display_data"
    },
    {
     "data": {
      "text/html": [
       "Run data is saved locally in <code>/mnt/c/Users/Jin Yi/Documents/ArianaPHD/research/neural_operator/wandb/run-20230206_160806-2aq7ujvw</code>"
      ],
      "text/plain": [
       "<IPython.core.display.HTML object>"
      ]
     },
     "metadata": {},
     "output_type": "display_data"
    },
    {
     "data": {
      "text/html": [
       "Syncing run <strong><a href=\"https://wandb.ai/jyyresearch/FNO2D/runs/2aq7ujvw\" target=\"_blank\">restful-snowflake-29</a></strong> to <a href=\"https://wandb.ai/jyyresearch/FNO2D\" target=\"_blank\">Weights & Biases</a> (<a href=\"https://wandb.me/run\" target=\"_blank\">docs</a>)<br/>"
      ],
      "text/plain": [
       "<IPython.core.display.HTML object>"
      ]
     },
     "metadata": {},
     "output_type": "display_data"
    },
    {
     "data": {
      "text/html": [
       "Waiting for W&B process to finish... <strong style=\"color:green\">(success).</strong>"
      ],
      "text/plain": [
       "<IPython.core.display.HTML object>"
      ]
     },
     "metadata": {},
     "output_type": "display_data"
    },
    {
     "data": {
      "application/vnd.jupyter.widget-view+json": {
       "model_id": "ea4e291fe25f4136a93153cfb71dc7e6",
       "version_major": 2,
       "version_minor": 0
      },
      "text/plain": [
       "VBox(children=(Label(value='0.001 MB of 0.001 MB uploaded (0.000 MB deduped)\\r'), FloatProgress(value=1.0, max…"
      ]
     },
     "metadata": {},
     "output_type": "display_data"
    },
    {
     "data": {
      "text/html": [
       "Synced <strong style=\"color:#cdcd00\">restful-snowflake-29</strong>: <a href=\"https://wandb.ai/jyyresearch/FNO2D/runs/2aq7ujvw\" target=\"_blank\">https://wandb.ai/jyyresearch/FNO2D/runs/2aq7ujvw</a><br/>Synced 5 W&B file(s), 0 media file(s), 0 artifact file(s) and 0 other file(s)"
      ],
      "text/plain": [
       "<IPython.core.display.HTML object>"
      ]
     },
     "metadata": {},
     "output_type": "display_data"
    },
    {
     "data": {
      "text/html": [
       "Find logs at: <code>./wandb/run-20230206_160806-2aq7ujvw/logs</code>"
      ],
      "text/plain": [
       "<IPython.core.display.HTML object>"
      ]
     },
     "metadata": {},
     "output_type": "display_data"
    }
   ],
   "source": [
    "# Define an initial set of transforms that we think will be useful\n",
    "with wandb.init(project=PROJECT_NAME, job_type='define-transforms', config=config) as run:\n",
    "    transform_dict = OrderedDict()\n",
    "    transform_dict['ToTensor'] = {\n",
    "        'device': DEVICE\n",
    "    }\n",
    "    # Include an operational index to verify the order\n",
    "    for key_idx, key in enumerate(transform_dict.keys()):\n",
    "        transform_dict[key]['order'] = key_idx\n",
    "    # Create an artifact for logging the transforms\n",
    "    data_transform_artifact = wandb.Artifact(\n",
    "        'data-transforms', type='parameters',\n",
    "        description='Data preprocessing functions and parameters.',\n",
    "        metadata=transform_dict) # Optional for viewing on the web app; the data is also stored in the txt file below\n",
    "    # Log the transforms in JSON format\n",
    "    with data_transform_artifact.new_file('transforms.txt') as f:\n",
    "        f.write(json.dumps(transform_dict, indent=4))\n",
    "    run.log_artifact(data_transform_artifact)\n",
    "\n",
    "config.update(transform_dict)\n",
    "\n",
    "train_loader, val_loader = make_loaders(config, input_data=input_data, damage_data=damage_data)"
   ]
  },
  {
   "cell_type": "code",
   "execution_count": 11,
   "metadata": {},
   "outputs": [],
   "source": [
    "# config for model\n",
    "step_size = 50\n",
    "gamma = 0.5\n",
    "\n",
    "modes = 12\n",
    "s = modes * 4"
   ]
  },
  {
   "cell_type": "code",
   "execution_count": 12,
   "metadata": {},
   "outputs": [],
   "source": [
    "def train(model, device, train_loader, optimizer, scaler, model_iphi, config):\n",
    "    model.train()\n",
    "    train_loss = 0\n",
    "\n",
    "    myloss = LpLoss(size_average=False)\n",
    "\n",
    "    for batch_idx, (data, damage) in enumerate(train_loader):        \n",
    "\n",
    "        # HEAVISIDE WEIGHT FUNCTION\n",
    "        # find index of values > 0.3\n",
    "        # w_batch_index = np.apply_along_axis(lambda x: x > 0.3, 1, damage[:, :, 2].numpy())\n",
    "        # weights_norm = np.where(w_batch_index, (0.8/np.sum(w_batch_index, axis=1))[:, np.newaxis], (0.2/np.sum(~w_batch_index, axis=1))[:, np.newaxis])\n",
    "        # weights_norm = torch.from_numpy(weights_norm).float().cuda()   # to tensor\n",
    "\n",
    "        \n",
    "        \n",
    "        data, damage = data.to(device), damage.to(device)\n",
    "        damage_values = damage[:, :, 2]\n",
    "\n",
    "        optimizer.zero_grad(set_to_none=True)\n",
    "\n",
    "        # automatic mixed precision\n",
    "        with torch.autocast(device_type=device, dtype=torch.float16):\n",
    "\n",
    "            output = model(data, iphi=model_iphi, x_in = data[:, :, :2], x_out = damage[:, :, :2])\n",
    "            # print(output)\n",
    "            if len(damage_values) == config['batch_size']:\n",
    "                loss_data = myloss(output.view(config['batch_size']), damage_values.view(config['batch_size'], -1))\n",
    "            else:\n",
    "                loss_data = myloss(output.view(len(damage_values), -1), damage_values.view(len(damage_values), -1))\n",
    "            # loss = loss_data + 0.000 * loss_reg\n",
    "            loss = loss_data + 0\n",
    "\n",
    "        scaler.scale(loss).backward()\n",
    "        scaler.step(optimizer)\n",
    "        scaler.update()\n",
    "        \n",
    "        train_loss += loss.item()\n",
    "        \n",
    "    train_loss /= len(train_loader.dataset)\n",
    "    return train_loss"
   ]
  },
  {
   "cell_type": "code",
   "execution_count": 13,
   "metadata": {},
   "outputs": [],
   "source": [
    "def validate(model, device, valid_loader, model_iphi, config):\n",
    "\n",
    "    model.eval()\n",
    "    valid_loss = 0\n",
    "\n",
    "    data_list = []\n",
    "    output_list = []\n",
    "    damage_list = []\n",
    "\n",
    "\n",
    "    with torch.no_grad():\n",
    "        myloss = LpLoss(size_average=False)\n",
    "        for batch_idx, (data, damage) in enumerate(valid_loader):\n",
    "            data, damage = data.to(device), damage.to(device)\n",
    "            damage_values = damage[:, :, 2]\n",
    "\n",
    "            # HEAVISIDE WEIGHT FUNCTION\n",
    "            # # find index of values > 0.3\n",
    "            # w_batch_index = np.apply_along_axis(lambda x: x > 0.3, 1, damage[:, :, 2].cpu().numpy())\n",
    "            # weights_norm = np.where(w_batch_index, (0.8/np.sum(w_batch_index, axis=1))[:, np.newaxis], (0.2/np.sum(~w_batch_index, axis=1))[:, np.newaxis])\n",
    "            # weights_norm = torch.from_numpy(weights_norm).float().cuda()\n",
    "\n",
    "            # myloss = MSELoss_weighted(weights_tensor = weights_norm)\n",
    "\n",
    "            output = model(data, iphi=model_iphi, x_in = data[:, :, :2], x_out = damage[:, :, :2])\n",
    "            if len(damage_values) == config['batch_size']:\n",
    "                loss_data = myloss(output.view(config['batch_size'], -1), damage_values.view(config['batch_size'], -1))\n",
    "            else:\n",
    "                loss_data = myloss(output.view(len(damage_values), -1), damage_values.view(len(damage_values), -1))\n",
    "            loss = loss_data + 0\n",
    "            valid_loss += loss.item()\n",
    "\n",
    "            data_list.append(data.cpu().numpy())\n",
    "            output_list.append(output.cpu().numpy())\n",
    "            damage_list.append(damage.cpu().numpy())\n",
    "\n",
    "    valid_loss /= len(valid_loader.dataset)\n",
    "\n",
    "    return valid_loss, data_list, output_list, damage_list"
   ]
  },
  {
   "cell_type": "code",
   "execution_count": 22,
   "metadata": {},
   "outputs": [
    {
     "ename": "TypeError",
     "evalue": "expected np.ndarray (got tuple)",
     "output_type": "error",
     "traceback": [
      "\u001b[0;31m---------------------------------------------------------------------------\u001b[0m",
      "\u001b[0;31mTypeError\u001b[0m                                 Traceback (most recent call last)",
      "\u001b[1;32m/mnt/c/Users/Jin Yi/Documents/ArianaPHD/research/neural_operator/neural_operator_wandb.ipynb Cell 28\u001b[0m in \u001b[0;36m<cell line: 2>\u001b[0;34m()\u001b[0m\n\u001b[1;32m      <a href='vscode-notebook-cell://ssh-remote%2Blocalhost/mnt/c/Users/Jin%20Yi/Documents/ArianaPHD/research/neural_operator/neural_operator_wandb.ipynb#X40sdnNjb2RlLXJlbW90ZQ%3D%3D?line=0'>1</a>\u001b[0m \u001b[39m# test iterate through dataloaders\u001b[39;00m\n\u001b[0;32m----> <a href='vscode-notebook-cell://ssh-remote%2Blocalhost/mnt/c/Users/Jin%20Yi/Documents/ArianaPHD/research/neural_operator/neural_operator_wandb.ipynb#X40sdnNjb2RlLXJlbW90ZQ%3D%3D?line=1'>2</a>\u001b[0m \u001b[39mfor\u001b[39;00m batch_idx, (data, damage) \u001b[39min\u001b[39;00m \u001b[39menumerate\u001b[39m(train_loader):\n\u001b[1;32m      <a href='vscode-notebook-cell://ssh-remote%2Blocalhost/mnt/c/Users/Jin%20Yi/Documents/ArianaPHD/research/neural_operator/neural_operator_wandb.ipynb#X40sdnNjb2RlLXJlbW90ZQ%3D%3D?line=2'>3</a>\u001b[0m     \u001b[39mprint\u001b[39m(data\u001b[39m.\u001b[39mshape)\n",
      "File \u001b[0;32m~/miniconda3/envs/phasefield/lib/python3.8/site-packages/torch/utils/data/dataloader.py:635\u001b[0m, in \u001b[0;36m_BaseDataLoaderIter.__next__\u001b[0;34m(self)\u001b[0m\n\u001b[1;32m    632\u001b[0m \u001b[39mif\u001b[39;00m \u001b[39mself\u001b[39m\u001b[39m.\u001b[39m_sampler_iter \u001b[39mis\u001b[39;00m \u001b[39mNone\u001b[39;00m:\n\u001b[1;32m    633\u001b[0m     \u001b[39m# TODO(https://github.com/pytorch/pytorch/issues/76750)\u001b[39;00m\n\u001b[1;32m    634\u001b[0m     \u001b[39mself\u001b[39m\u001b[39m.\u001b[39m_reset()  \u001b[39m# type: ignore[call-arg]\u001b[39;00m\n\u001b[0;32m--> 635\u001b[0m data \u001b[39m=\u001b[39m \u001b[39mself\u001b[39;49m\u001b[39m.\u001b[39;49m_next_data()\n\u001b[1;32m    636\u001b[0m \u001b[39mself\u001b[39m\u001b[39m.\u001b[39m_num_yielded \u001b[39m+\u001b[39m\u001b[39m=\u001b[39m \u001b[39m1\u001b[39m\n\u001b[1;32m    637\u001b[0m \u001b[39mif\u001b[39;00m \u001b[39mself\u001b[39m\u001b[39m.\u001b[39m_dataset_kind \u001b[39m==\u001b[39m _DatasetKind\u001b[39m.\u001b[39mIterable \u001b[39mand\u001b[39;00m \\\n\u001b[1;32m    638\u001b[0m         \u001b[39mself\u001b[39m\u001b[39m.\u001b[39m_IterableDataset_len_called \u001b[39mis\u001b[39;00m \u001b[39mnot\u001b[39;00m \u001b[39mNone\u001b[39;00m \u001b[39mand\u001b[39;00m \\\n\u001b[1;32m    639\u001b[0m         \u001b[39mself\u001b[39m\u001b[39m.\u001b[39m_num_yielded \u001b[39m>\u001b[39m \u001b[39mself\u001b[39m\u001b[39m.\u001b[39m_IterableDataset_len_called:\n",
      "File \u001b[0;32m~/miniconda3/envs/phasefield/lib/python3.8/site-packages/torch/utils/data/dataloader.py:679\u001b[0m, in \u001b[0;36m_SingleProcessDataLoaderIter._next_data\u001b[0;34m(self)\u001b[0m\n\u001b[1;32m    677\u001b[0m \u001b[39mdef\u001b[39;00m \u001b[39m_next_data\u001b[39m(\u001b[39mself\u001b[39m):\n\u001b[1;32m    678\u001b[0m     index \u001b[39m=\u001b[39m \u001b[39mself\u001b[39m\u001b[39m.\u001b[39m_next_index()  \u001b[39m# may raise StopIteration\u001b[39;00m\n\u001b[0;32m--> 679\u001b[0m     data \u001b[39m=\u001b[39m \u001b[39mself\u001b[39;49m\u001b[39m.\u001b[39;49m_dataset_fetcher\u001b[39m.\u001b[39;49mfetch(index)  \u001b[39m# may raise StopIteration\u001b[39;00m\n\u001b[1;32m    680\u001b[0m     \u001b[39mif\u001b[39;00m \u001b[39mself\u001b[39m\u001b[39m.\u001b[39m_pin_memory:\n\u001b[1;32m    681\u001b[0m         data \u001b[39m=\u001b[39m _utils\u001b[39m.\u001b[39mpin_memory\u001b[39m.\u001b[39mpin_memory(data, \u001b[39mself\u001b[39m\u001b[39m.\u001b[39m_pin_memory_device)\n",
      "File \u001b[0;32m~/miniconda3/envs/phasefield/lib/python3.8/site-packages/torch/utils/data/_utils/fetch.py:58\u001b[0m, in \u001b[0;36m_MapDatasetFetcher.fetch\u001b[0;34m(self, possibly_batched_index)\u001b[0m\n\u001b[1;32m     56\u001b[0m         data \u001b[39m=\u001b[39m \u001b[39mself\u001b[39m\u001b[39m.\u001b[39mdataset\u001b[39m.\u001b[39m__getitems__(possibly_batched_index)\n\u001b[1;32m     57\u001b[0m     \u001b[39melse\u001b[39;00m:\n\u001b[0;32m---> 58\u001b[0m         data \u001b[39m=\u001b[39m [\u001b[39mself\u001b[39m\u001b[39m.\u001b[39mdataset[idx] \u001b[39mfor\u001b[39;00m idx \u001b[39min\u001b[39;00m possibly_batched_index]\n\u001b[1;32m     59\u001b[0m \u001b[39melse\u001b[39;00m:\n\u001b[1;32m     60\u001b[0m     data \u001b[39m=\u001b[39m \u001b[39mself\u001b[39m\u001b[39m.\u001b[39mdataset[possibly_batched_index]\n",
      "File \u001b[0;32m~/miniconda3/envs/phasefield/lib/python3.8/site-packages/torch/utils/data/_utils/fetch.py:58\u001b[0m, in \u001b[0;36m<listcomp>\u001b[0;34m(.0)\u001b[0m\n\u001b[1;32m     56\u001b[0m         data \u001b[39m=\u001b[39m \u001b[39mself\u001b[39m\u001b[39m.\u001b[39mdataset\u001b[39m.\u001b[39m__getitems__(possibly_batched_index)\n\u001b[1;32m     57\u001b[0m     \u001b[39melse\u001b[39;00m:\n\u001b[0;32m---> 58\u001b[0m         data \u001b[39m=\u001b[39m [\u001b[39mself\u001b[39;49m\u001b[39m.\u001b[39;49mdataset[idx] \u001b[39mfor\u001b[39;00m idx \u001b[39min\u001b[39;00m possibly_batched_index]\n\u001b[1;32m     59\u001b[0m \u001b[39melse\u001b[39;00m:\n\u001b[1;32m     60\u001b[0m     data \u001b[39m=\u001b[39m \u001b[39mself\u001b[39m\u001b[39m.\u001b[39mdataset[possibly_batched_index]\n",
      "\u001b[1;32m/mnt/c/Users/Jin Yi/Documents/ArianaPHD/research/neural_operator/neural_operator_wandb.ipynb Cell 28\u001b[0m in \u001b[0;36mFractureDamageDataset.__getitem__\u001b[0;34m(self, idx)\u001b[0m\n\u001b[1;32m     <a href='vscode-notebook-cell://ssh-remote%2Blocalhost/mnt/c/Users/Jin%20Yi/Documents/ArianaPHD/research/neural_operator/neural_operator_wandb.ipynb#X40sdnNjb2RlLXJlbW90ZQ%3D%3D?line=13'>14</a>\u001b[0m sample \u001b[39m=\u001b[39m (\u001b[39mself\u001b[39m\u001b[39m.\u001b[39minput_data[idx], \u001b[39mself\u001b[39m\u001b[39m.\u001b[39mdamage_data[idx])\n\u001b[1;32m     <a href='vscode-notebook-cell://ssh-remote%2Blocalhost/mnt/c/Users/Jin%20Yi/Documents/ArianaPHD/research/neural_operator/neural_operator_wandb.ipynb#X40sdnNjb2RlLXJlbW90ZQ%3D%3D?line=14'>15</a>\u001b[0m \u001b[39mif\u001b[39;00m \u001b[39mself\u001b[39m\u001b[39m.\u001b[39mtransform:\n\u001b[0;32m---> <a href='vscode-notebook-cell://ssh-remote%2Blocalhost/mnt/c/Users/Jin%20Yi/Documents/ArianaPHD/research/neural_operator/neural_operator_wandb.ipynb#X40sdnNjb2RlLXJlbW90ZQ%3D%3D?line=15'>16</a>\u001b[0m     sample \u001b[39m=\u001b[39m \u001b[39mself\u001b[39;49m\u001b[39m.\u001b[39;49mtransform(sample)\n\u001b[1;32m     <a href='vscode-notebook-cell://ssh-remote%2Blocalhost/mnt/c/Users/Jin%20Yi/Documents/ArianaPHD/research/neural_operator/neural_operator_wandb.ipynb#X40sdnNjb2RlLXJlbW90ZQ%3D%3D?line=16'>17</a>\u001b[0m \u001b[39mreturn\u001b[39;00m sample\n",
      "File \u001b[0;32m~/miniconda3/envs/phasefield/lib/python3.8/site-packages/torchvision/transforms/transforms.py:95\u001b[0m, in \u001b[0;36mCompose.__call__\u001b[0;34m(self, img)\u001b[0m\n\u001b[1;32m     93\u001b[0m \u001b[39mdef\u001b[39;00m \u001b[39m__call__\u001b[39m(\u001b[39mself\u001b[39m, img):\n\u001b[1;32m     94\u001b[0m     \u001b[39mfor\u001b[39;00m t \u001b[39min\u001b[39;00m \u001b[39mself\u001b[39m\u001b[39m.\u001b[39mtransforms:\n\u001b[0;32m---> 95\u001b[0m         img \u001b[39m=\u001b[39m t(img)\n\u001b[1;32m     96\u001b[0m     \u001b[39mreturn\u001b[39;00m img\n",
      "\u001b[1;32m/mnt/c/Users/Jin Yi/Documents/ArianaPHD/research/neural_operator/neural_operator_wandb.ipynb Cell 28\u001b[0m in \u001b[0;36mToTensor.__call__\u001b[0;34m(self, data)\u001b[0m\n\u001b[1;32m     <a href='vscode-notebook-cell://ssh-remote%2Blocalhost/mnt/c/Users/Jin%20Yi/Documents/ArianaPHD/research/neural_operator/neural_operator_wandb.ipynb#X40sdnNjb2RlLXJlbW90ZQ%3D%3D?line=10'>11</a>\u001b[0m     \u001b[39mreturn\u001b[39;00m torch\u001b[39m.\u001b[39mfrom_numpy(data)\n\u001b[1;32m     <a href='vscode-notebook-cell://ssh-remote%2Blocalhost/mnt/c/Users/Jin%20Yi/Documents/ArianaPHD/research/neural_operator/neural_operator_wandb.ipynb#X40sdnNjb2RlLXJlbW90ZQ%3D%3D?line=11'>12</a>\u001b[0m \u001b[39melse\u001b[39;00m:\n\u001b[1;32m     <a href='vscode-notebook-cell://ssh-remote%2Blocalhost/mnt/c/Users/Jin%20Yi/Documents/ArianaPHD/research/neural_operator/neural_operator_wandb.ipynb#X40sdnNjb2RlLXJlbW90ZQ%3D%3D?line=12'>13</a>\u001b[0m     \u001b[39m# to overlap data transfers with computation, use non_blocking=True\u001b[39;00m\n\u001b[0;32m---> <a href='vscode-notebook-cell://ssh-remote%2Blocalhost/mnt/c/Users/Jin%20Yi/Documents/ArianaPHD/research/neural_operator/neural_operator_wandb.ipynb#X40sdnNjb2RlLXJlbW90ZQ%3D%3D?line=13'>14</a>\u001b[0m     \u001b[39mreturn\u001b[39;00m torch\u001b[39m.\u001b[39;49mfrom_numpy(data)\u001b[39m.\u001b[39mto(\u001b[39mself\u001b[39m\u001b[39m.\u001b[39mdevice, non_blocking\u001b[39m=\u001b[39m\u001b[39mTrue\u001b[39;00m)\n",
      "\u001b[0;31mTypeError\u001b[0m: expected np.ndarray (got tuple)"
     ]
    }
   ],
   "source": [
    "# test iterate through dataloaders\n",
    "for batch_idx, (data, damage) in enumerate(train_loader):\n",
    "    print(data.shape)"
   ]
  },
  {
   "cell_type": "code",
   "execution_count": 14,
   "metadata": {},
   "outputs": [
    {
     "name": "stdout",
     "output_type": "stream",
     "text": [
      "1487041 63746\n"
     ]
    },
    {
     "data": {
      "text/html": [
       "wandb version 0.13.9 is available!  To upgrade, please run:\n",
       " $ pip install wandb --upgrade"
      ],
      "text/plain": [
       "<IPython.core.display.HTML object>"
      ]
     },
     "metadata": {},
     "output_type": "display_data"
    },
    {
     "data": {
      "text/html": [
       "Tracking run with wandb version 0.12.15"
      ],
      "text/plain": [
       "<IPython.core.display.HTML object>"
      ]
     },
     "metadata": {},
     "output_type": "display_data"
    },
    {
     "data": {
      "text/html": [
       "Run data is saved locally in <code>/mnt/c/Users/Jin Yi/Documents/ArianaPHD/research/neural_operator/wandb/run-20230206_160835-34mg0sjw</code>"
      ],
      "text/plain": [
       "<IPython.core.display.HTML object>"
      ]
     },
     "metadata": {},
     "output_type": "display_data"
    },
    {
     "data": {
      "text/html": [
       "Syncing run <strong><a href=\"https://wandb.ai/jyyresearch/FNO2D/runs/34mg0sjw\" target=\"_blank\">20230206_1608</a></strong> to <a href=\"https://wandb.ai/jyyresearch/FNO2D\" target=\"_blank\">Weights & Biases</a> (<a href=\"https://wandb.me/run\" target=\"_blank\">docs</a>)<br/>"
      ],
      "text/plain": [
       "<IPython.core.display.HTML object>"
      ]
     },
     "metadata": {},
     "output_type": "display_data"
    },
    {
     "ename": "TypeError",
     "evalue": "expected np.ndarray (got tuple)",
     "output_type": "error",
     "traceback": [
      "\u001b[0;31m---------------------------------------------------------------------------\u001b[0m",
      "\u001b[0;31mTypeError\u001b[0m                                 Traceback (most recent call last)",
      "\u001b[1;32m/mnt/c/Users/Jin Yi/Documents/ArianaPHD/research/neural_operator/neural_operator_wandb.ipynb Cell 28\u001b[0m in \u001b[0;36m<cell line: 12>\u001b[0;34m()\u001b[0m\n\u001b[1;32m     <a href='vscode-notebook-cell://ssh-remote%2Blocalhost/mnt/c/Users/Jin%20Yi/Documents/ArianaPHD/research/neural_operator/neural_operator_wandb.ipynb#X36sdnNjb2RlLXJlbW90ZQ%3D%3D?line=56'>57</a>\u001b[0m curr_lr \u001b[39m=\u001b[39m optimizer\u001b[39m.\u001b[39mparam_groups[\u001b[39m0\u001b[39m][\u001b[39m'\u001b[39m\u001b[39mlr\u001b[39m\u001b[39m'\u001b[39m]\n\u001b[1;32m     <a href='vscode-notebook-cell://ssh-remote%2Blocalhost/mnt/c/Users/Jin%20Yi/Documents/ArianaPHD/research/neural_operator/neural_operator_wandb.ipynb#X36sdnNjb2RlLXJlbW90ZQ%3D%3D?line=58'>59</a>\u001b[0m scaler \u001b[39m=\u001b[39m torch\u001b[39m.\u001b[39mcuda\u001b[39m.\u001b[39mamp\u001b[39m.\u001b[39mGradScaler(enabled\u001b[39m=\u001b[39m\u001b[39mTrue\u001b[39;00m)\n\u001b[0;32m---> <a href='vscode-notebook-cell://ssh-remote%2Blocalhost/mnt/c/Users/Jin%20Yi/Documents/ArianaPHD/research/neural_operator/neural_operator_wandb.ipynb#X36sdnNjb2RlLXJlbW90ZQ%3D%3D?line=60'>61</a>\u001b[0m train_loss \u001b[39m=\u001b[39m train(model, device, train_loader, optimizer, scaler, model_iphi, config)\n\u001b[1;32m     <a href='vscode-notebook-cell://ssh-remote%2Blocalhost/mnt/c/Users/Jin%20Yi/Documents/ArianaPHD/research/neural_operator/neural_operator_wandb.ipynb#X36sdnNjb2RlLXJlbW90ZQ%3D%3D?line=62'>63</a>\u001b[0m scheduler\u001b[39m.\u001b[39mstep()    \n\u001b[1;32m     <a href='vscode-notebook-cell://ssh-remote%2Blocalhost/mnt/c/Users/Jin%20Yi/Documents/ArianaPHD/research/neural_operator/neural_operator_wandb.ipynb#X36sdnNjb2RlLXJlbW90ZQ%3D%3D?line=64'>65</a>\u001b[0m valid_loss, data_list, output_list, damage_list \u001b[39m=\u001b[39m validate(model, device, val_loader, model_iphi, config)\n",
      "\u001b[1;32m/mnt/c/Users/Jin Yi/Documents/ArianaPHD/research/neural_operator/neural_operator_wandb.ipynb Cell 28\u001b[0m in \u001b[0;36mtrain\u001b[0;34m(model, device, train_loader, optimizer, scaler, model_iphi, config)\u001b[0m\n\u001b[1;32m      <a href='vscode-notebook-cell://ssh-remote%2Blocalhost/mnt/c/Users/Jin%20Yi/Documents/ArianaPHD/research/neural_operator/neural_operator_wandb.ipynb#X36sdnNjb2RlLXJlbW90ZQ%3D%3D?line=2'>3</a>\u001b[0m train_loss \u001b[39m=\u001b[39m \u001b[39m0\u001b[39m\n\u001b[1;32m      <a href='vscode-notebook-cell://ssh-remote%2Blocalhost/mnt/c/Users/Jin%20Yi/Documents/ArianaPHD/research/neural_operator/neural_operator_wandb.ipynb#X36sdnNjb2RlLXJlbW90ZQ%3D%3D?line=4'>5</a>\u001b[0m myloss \u001b[39m=\u001b[39m LpLoss(size_average\u001b[39m=\u001b[39m\u001b[39mFalse\u001b[39;00m)\n\u001b[0;32m----> <a href='vscode-notebook-cell://ssh-remote%2Blocalhost/mnt/c/Users/Jin%20Yi/Documents/ArianaPHD/research/neural_operator/neural_operator_wandb.ipynb#X36sdnNjb2RlLXJlbW90ZQ%3D%3D?line=6'>7</a>\u001b[0m \u001b[39mfor\u001b[39;00m batch_idx, (data, damage) \u001b[39min\u001b[39;00m \u001b[39menumerate\u001b[39m(train_loader):        \n\u001b[1;32m      <a href='vscode-notebook-cell://ssh-remote%2Blocalhost/mnt/c/Users/Jin%20Yi/Documents/ArianaPHD/research/neural_operator/neural_operator_wandb.ipynb#X36sdnNjb2RlLXJlbW90ZQ%3D%3D?line=7'>8</a>\u001b[0m \n\u001b[1;32m      <a href='vscode-notebook-cell://ssh-remote%2Blocalhost/mnt/c/Users/Jin%20Yi/Documents/ArianaPHD/research/neural_operator/neural_operator_wandb.ipynb#X36sdnNjb2RlLXJlbW90ZQ%3D%3D?line=8'>9</a>\u001b[0m     \u001b[39m# HEAVISIDE WEIGHT FUNCTION\u001b[39;00m\n\u001b[1;32m     <a href='vscode-notebook-cell://ssh-remote%2Blocalhost/mnt/c/Users/Jin%20Yi/Documents/ArianaPHD/research/neural_operator/neural_operator_wandb.ipynb#X36sdnNjb2RlLXJlbW90ZQ%3D%3D?line=9'>10</a>\u001b[0m     \u001b[39m# find index of values > 0.3\u001b[39;00m\n\u001b[1;32m     <a href='vscode-notebook-cell://ssh-remote%2Blocalhost/mnt/c/Users/Jin%20Yi/Documents/ArianaPHD/research/neural_operator/neural_operator_wandb.ipynb#X36sdnNjb2RlLXJlbW90ZQ%3D%3D?line=10'>11</a>\u001b[0m     \u001b[39m# w_batch_index = np.apply_along_axis(lambda x: x > 0.3, 1, damage[:, :, 2].numpy())\u001b[39;00m\n\u001b[1;32m     <a href='vscode-notebook-cell://ssh-remote%2Blocalhost/mnt/c/Users/Jin%20Yi/Documents/ArianaPHD/research/neural_operator/neural_operator_wandb.ipynb#X36sdnNjb2RlLXJlbW90ZQ%3D%3D?line=11'>12</a>\u001b[0m     \u001b[39m# weights_norm = np.where(w_batch_index, (0.8/np.sum(w_batch_index, axis=1))[:, np.newaxis], (0.2/np.sum(~w_batch_index, axis=1))[:, np.newaxis])\u001b[39;00m\n\u001b[1;32m     <a href='vscode-notebook-cell://ssh-remote%2Blocalhost/mnt/c/Users/Jin%20Yi/Documents/ArianaPHD/research/neural_operator/neural_operator_wandb.ipynb#X36sdnNjb2RlLXJlbW90ZQ%3D%3D?line=12'>13</a>\u001b[0m     \u001b[39m# weights_norm = torch.from_numpy(weights_norm).float().cuda()   # to tensor\u001b[39;00m\n\u001b[1;32m     <a href='vscode-notebook-cell://ssh-remote%2Blocalhost/mnt/c/Users/Jin%20Yi/Documents/ArianaPHD/research/neural_operator/neural_operator_wandb.ipynb#X36sdnNjb2RlLXJlbW90ZQ%3D%3D?line=16'>17</a>\u001b[0m     data, damage \u001b[39m=\u001b[39m data\u001b[39m.\u001b[39mto(device), damage\u001b[39m.\u001b[39mto(device)\n\u001b[1;32m     <a href='vscode-notebook-cell://ssh-remote%2Blocalhost/mnt/c/Users/Jin%20Yi/Documents/ArianaPHD/research/neural_operator/neural_operator_wandb.ipynb#X36sdnNjb2RlLXJlbW90ZQ%3D%3D?line=17'>18</a>\u001b[0m     damage_values \u001b[39m=\u001b[39m damage[:, :, \u001b[39m2\u001b[39m]\n",
      "File \u001b[0;32m~/miniconda3/envs/phasefield/lib/python3.8/site-packages/torch/utils/data/dataloader.py:635\u001b[0m, in \u001b[0;36m_BaseDataLoaderIter.__next__\u001b[0;34m(self)\u001b[0m\n\u001b[1;32m    632\u001b[0m \u001b[39mif\u001b[39;00m \u001b[39mself\u001b[39m\u001b[39m.\u001b[39m_sampler_iter \u001b[39mis\u001b[39;00m \u001b[39mNone\u001b[39;00m:\n\u001b[1;32m    633\u001b[0m     \u001b[39m# TODO(https://github.com/pytorch/pytorch/issues/76750)\u001b[39;00m\n\u001b[1;32m    634\u001b[0m     \u001b[39mself\u001b[39m\u001b[39m.\u001b[39m_reset()  \u001b[39m# type: ignore[call-arg]\u001b[39;00m\n\u001b[0;32m--> 635\u001b[0m data \u001b[39m=\u001b[39m \u001b[39mself\u001b[39;49m\u001b[39m.\u001b[39;49m_next_data()\n\u001b[1;32m    636\u001b[0m \u001b[39mself\u001b[39m\u001b[39m.\u001b[39m_num_yielded \u001b[39m+\u001b[39m\u001b[39m=\u001b[39m \u001b[39m1\u001b[39m\n\u001b[1;32m    637\u001b[0m \u001b[39mif\u001b[39;00m \u001b[39mself\u001b[39m\u001b[39m.\u001b[39m_dataset_kind \u001b[39m==\u001b[39m _DatasetKind\u001b[39m.\u001b[39mIterable \u001b[39mand\u001b[39;00m \\\n\u001b[1;32m    638\u001b[0m         \u001b[39mself\u001b[39m\u001b[39m.\u001b[39m_IterableDataset_len_called \u001b[39mis\u001b[39;00m \u001b[39mnot\u001b[39;00m \u001b[39mNone\u001b[39;00m \u001b[39mand\u001b[39;00m \\\n\u001b[1;32m    639\u001b[0m         \u001b[39mself\u001b[39m\u001b[39m.\u001b[39m_num_yielded \u001b[39m>\u001b[39m \u001b[39mself\u001b[39m\u001b[39m.\u001b[39m_IterableDataset_len_called:\n",
      "File \u001b[0;32m~/miniconda3/envs/phasefield/lib/python3.8/site-packages/torch/utils/data/dataloader.py:679\u001b[0m, in \u001b[0;36m_SingleProcessDataLoaderIter._next_data\u001b[0;34m(self)\u001b[0m\n\u001b[1;32m    677\u001b[0m \u001b[39mdef\u001b[39;00m \u001b[39m_next_data\u001b[39m(\u001b[39mself\u001b[39m):\n\u001b[1;32m    678\u001b[0m     index \u001b[39m=\u001b[39m \u001b[39mself\u001b[39m\u001b[39m.\u001b[39m_next_index()  \u001b[39m# may raise StopIteration\u001b[39;00m\n\u001b[0;32m--> 679\u001b[0m     data \u001b[39m=\u001b[39m \u001b[39mself\u001b[39;49m\u001b[39m.\u001b[39;49m_dataset_fetcher\u001b[39m.\u001b[39;49mfetch(index)  \u001b[39m# may raise StopIteration\u001b[39;00m\n\u001b[1;32m    680\u001b[0m     \u001b[39mif\u001b[39;00m \u001b[39mself\u001b[39m\u001b[39m.\u001b[39m_pin_memory:\n\u001b[1;32m    681\u001b[0m         data \u001b[39m=\u001b[39m _utils\u001b[39m.\u001b[39mpin_memory\u001b[39m.\u001b[39mpin_memory(data, \u001b[39mself\u001b[39m\u001b[39m.\u001b[39m_pin_memory_device)\n",
      "File \u001b[0;32m~/miniconda3/envs/phasefield/lib/python3.8/site-packages/torch/utils/data/_utils/fetch.py:58\u001b[0m, in \u001b[0;36m_MapDatasetFetcher.fetch\u001b[0;34m(self, possibly_batched_index)\u001b[0m\n\u001b[1;32m     56\u001b[0m         data \u001b[39m=\u001b[39m \u001b[39mself\u001b[39m\u001b[39m.\u001b[39mdataset\u001b[39m.\u001b[39m__getitems__(possibly_batched_index)\n\u001b[1;32m     57\u001b[0m     \u001b[39melse\u001b[39;00m:\n\u001b[0;32m---> 58\u001b[0m         data \u001b[39m=\u001b[39m [\u001b[39mself\u001b[39m\u001b[39m.\u001b[39mdataset[idx] \u001b[39mfor\u001b[39;00m idx \u001b[39min\u001b[39;00m possibly_batched_index]\n\u001b[1;32m     59\u001b[0m \u001b[39melse\u001b[39;00m:\n\u001b[1;32m     60\u001b[0m     data \u001b[39m=\u001b[39m \u001b[39mself\u001b[39m\u001b[39m.\u001b[39mdataset[possibly_batched_index]\n",
      "File \u001b[0;32m~/miniconda3/envs/phasefield/lib/python3.8/site-packages/torch/utils/data/_utils/fetch.py:58\u001b[0m, in \u001b[0;36m<listcomp>\u001b[0;34m(.0)\u001b[0m\n\u001b[1;32m     56\u001b[0m         data \u001b[39m=\u001b[39m \u001b[39mself\u001b[39m\u001b[39m.\u001b[39mdataset\u001b[39m.\u001b[39m__getitems__(possibly_batched_index)\n\u001b[1;32m     57\u001b[0m     \u001b[39melse\u001b[39;00m:\n\u001b[0;32m---> 58\u001b[0m         data \u001b[39m=\u001b[39m [\u001b[39mself\u001b[39;49m\u001b[39m.\u001b[39;49mdataset[idx] \u001b[39mfor\u001b[39;00m idx \u001b[39min\u001b[39;00m possibly_batched_index]\n\u001b[1;32m     59\u001b[0m \u001b[39melse\u001b[39;00m:\n\u001b[1;32m     60\u001b[0m     data \u001b[39m=\u001b[39m \u001b[39mself\u001b[39m\u001b[39m.\u001b[39mdataset[possibly_batched_index]\n",
      "\u001b[1;32m/mnt/c/Users/Jin Yi/Documents/ArianaPHD/research/neural_operator/neural_operator_wandb.ipynb Cell 28\u001b[0m in \u001b[0;36mFractureDamageDataset.__getitem__\u001b[0;34m(self, idx)\u001b[0m\n\u001b[1;32m     <a href='vscode-notebook-cell://ssh-remote%2Blocalhost/mnt/c/Users/Jin%20Yi/Documents/ArianaPHD/research/neural_operator/neural_operator_wandb.ipynb#X36sdnNjb2RlLXJlbW90ZQ%3D%3D?line=13'>14</a>\u001b[0m sample \u001b[39m=\u001b[39m (\u001b[39mself\u001b[39m\u001b[39m.\u001b[39minput_data[idx], \u001b[39mself\u001b[39m\u001b[39m.\u001b[39mdamage_data[idx])\n\u001b[1;32m     <a href='vscode-notebook-cell://ssh-remote%2Blocalhost/mnt/c/Users/Jin%20Yi/Documents/ArianaPHD/research/neural_operator/neural_operator_wandb.ipynb#X36sdnNjb2RlLXJlbW90ZQ%3D%3D?line=14'>15</a>\u001b[0m \u001b[39mif\u001b[39;00m \u001b[39mself\u001b[39m\u001b[39m.\u001b[39mtransform:\n\u001b[0;32m---> <a href='vscode-notebook-cell://ssh-remote%2Blocalhost/mnt/c/Users/Jin%20Yi/Documents/ArianaPHD/research/neural_operator/neural_operator_wandb.ipynb#X36sdnNjb2RlLXJlbW90ZQ%3D%3D?line=15'>16</a>\u001b[0m     sample \u001b[39m=\u001b[39m \u001b[39mself\u001b[39;49m\u001b[39m.\u001b[39;49mtransform(sample)\n\u001b[1;32m     <a href='vscode-notebook-cell://ssh-remote%2Blocalhost/mnt/c/Users/Jin%20Yi/Documents/ArianaPHD/research/neural_operator/neural_operator_wandb.ipynb#X36sdnNjb2RlLXJlbW90ZQ%3D%3D?line=16'>17</a>\u001b[0m \u001b[39mreturn\u001b[39;00m sample\n",
      "File \u001b[0;32m~/miniconda3/envs/phasefield/lib/python3.8/site-packages/torchvision/transforms/transforms.py:95\u001b[0m, in \u001b[0;36mCompose.__call__\u001b[0;34m(self, img)\u001b[0m\n\u001b[1;32m     93\u001b[0m \u001b[39mdef\u001b[39;00m \u001b[39m__call__\u001b[39m(\u001b[39mself\u001b[39m, img):\n\u001b[1;32m     94\u001b[0m     \u001b[39mfor\u001b[39;00m t \u001b[39min\u001b[39;00m \u001b[39mself\u001b[39m\u001b[39m.\u001b[39mtransforms:\n\u001b[0;32m---> 95\u001b[0m         img \u001b[39m=\u001b[39m t(img)\n\u001b[1;32m     96\u001b[0m     \u001b[39mreturn\u001b[39;00m img\n",
      "\u001b[1;32m/mnt/c/Users/Jin Yi/Documents/ArianaPHD/research/neural_operator/neural_operator_wandb.ipynb Cell 28\u001b[0m in \u001b[0;36mToTensor.__call__\u001b[0;34m(self, data)\u001b[0m\n\u001b[1;32m     <a href='vscode-notebook-cell://ssh-remote%2Blocalhost/mnt/c/Users/Jin%20Yi/Documents/ArianaPHD/research/neural_operator/neural_operator_wandb.ipynb#X36sdnNjb2RlLXJlbW90ZQ%3D%3D?line=10'>11</a>\u001b[0m     \u001b[39mreturn\u001b[39;00m torch\u001b[39m.\u001b[39mfrom_numpy(data)\n\u001b[1;32m     <a href='vscode-notebook-cell://ssh-remote%2Blocalhost/mnt/c/Users/Jin%20Yi/Documents/ArianaPHD/research/neural_operator/neural_operator_wandb.ipynb#X36sdnNjb2RlLXJlbW90ZQ%3D%3D?line=11'>12</a>\u001b[0m \u001b[39melse\u001b[39;00m:\n\u001b[1;32m     <a href='vscode-notebook-cell://ssh-remote%2Blocalhost/mnt/c/Users/Jin%20Yi/Documents/ArianaPHD/research/neural_operator/neural_operator_wandb.ipynb#X36sdnNjb2RlLXJlbW90ZQ%3D%3D?line=12'>13</a>\u001b[0m     \u001b[39m# to overlap data transfers with computation, use non_blocking=True\u001b[39;00m\n\u001b[0;32m---> <a href='vscode-notebook-cell://ssh-remote%2Blocalhost/mnt/c/Users/Jin%20Yi/Documents/ArianaPHD/research/neural_operator/neural_operator_wandb.ipynb#X36sdnNjb2RlLXJlbW90ZQ%3D%3D?line=13'>14</a>\u001b[0m     \u001b[39mreturn\u001b[39;00m torch\u001b[39m.\u001b[39;49mfrom_numpy(data)\u001b[39m.\u001b[39mto(\u001b[39mself\u001b[39m\u001b[39m.\u001b[39mdevice, non_blocking\u001b[39m=\u001b[39m\u001b[39mTrue\u001b[39;00m)\n",
      "\u001b[0;31mTypeError\u001b[0m: expected np.ndarray (got tuple)"
     ]
    }
   ],
   "source": [
    "n_list = [32]\n",
    "\n",
    "INPUT_CHANNELS = 3\n",
    "OUTPUT_CHANNELS = 1\n",
    "\n",
    "BETA1 = config['BETA1']\n",
    "BETA2 = config['BETA2']\n",
    "\n",
    "EPOCHS = config['EPOCHS']\n",
    "BATCH_SIZE = config['batch_size']\n",
    "\n",
    "for i in range(len(n_list)):\n",
    "\n",
    "    min_valid_loss = np.inf\n",
    "\n",
    "    width = n_list[i]\n",
    "\n",
    "    today = datetime.datetime.now()\n",
    "\n",
    "    model = FNO2D.FNO2d(modes, modes, width=width, in_channels=INPUT_CHANNELS, out_channels=OUTPUT_CHANNELS, s1=s, s2=s).cuda()\n",
    "    model_iphi = FNO2D.IPHI_constant(width=width).cuda()\n",
    "\n",
    "    print(count_params(model), count_params(model_iphi))\n",
    "\n",
    "    params = list(model.parameters()) + list(model_iphi.parameters())\n",
    "    # optimizer = AdamW(params, lr=config['LEARNING_RATE'], weight_decay=1e-4)\n",
    "    optimizer = dadaptation.DAdaptAdam(params, lr=1, log_every=5, betas=(BETA1, BETA2), d0=1e-6)\n",
    "    scheduler = torch.optim.lr_scheduler.StepLR(optimizer, step_size=step_size, gamma=gamma)\n",
    "\n",
    "    train_loss_list = []\n",
    "    valid_loss_list = []\n",
    "\n",
    "    data_list = []\n",
    "    output_list = []\n",
    "\n",
    "    wandb.init(\n",
    "        anonymous='allow', project=PROJECT_NAME, name= today.strftime('%Y%m%d_%H%M'),\n",
    "            config={\n",
    "                \"epochs\": EPOCHS,\n",
    "                 \"optimizer\": 'Adam',\n",
    "                \"batch_size\": BATCH_SIZE, 'lr': 'Adaptive',\n",
    "                'step_size': step_size, 'gamma': gamma,\n",
    "                'width': width,\n",
    "                'modes': modes,\n",
    "                'loss ': 'L2Loss',\n",
    "                'activation func': 'SELU',\n",
    "                'lr decay': 'steplr, gamma=0.5',\n",
    "                'in_channels': INPUT_CHANNELS, 'out_channels': OUTPUT_CHANNELS,\n",
    "                'architecture': 'FNO2D - IPHI_constant (no mesh features)',\n",
    "                }\n",
    "        )\n",
    "\n",
    "    for epoch in range(1, EPOCHS + 1):\n",
    "        \n",
    "\n",
    "        # get current learning rate\n",
    "        curr_lr = optimizer.param_groups[0]['lr']\n",
    "\n",
    "        scaler = torch.cuda.amp.GradScaler(enabled=True)\n",
    "            \n",
    "        train_loss = train(model, device, train_loader, optimizer, scaler, model_iphi, config)\n",
    "\n",
    "        scheduler.step()    \n",
    "\n",
    "        valid_loss, data_list, output_list, damage_list = validate(model, device, val_loader, model_iphi, config)\n",
    "        print('Epoch: {:03d}, Train Loss: {:.7f}, Valid Loss: {:.7f}, LR: {:.7f}'.format(epoch, train_loss, valid_loss, curr_lr))\n",
    "        # wandb.log({'train_loss': train_loss, 'valid_loss': valid_loss})\n",
    "        train_loss_list.append(train_loss)\n",
    "        valid_loss_list.append(valid_loss)\n",
    "\n",
    "        if valid_loss < min_valid_loss:\n",
    "            print('Validation loss decreased ({:.6f} --> {:.6f}).  Saving model ...'.format(min_valid_loss, valid_loss))\n",
    "            min_valid_loss = valid_loss\n",
    "            best_epoch = epoch\n",
    "            # save model with current hour as name\n",
    "            today_hour = datetime.datetime.now().hour\n",
    "            torch.save(model.state_dict(), 'Model/model_constant{}.pt'.format(today_hour))\n",
    "            torch.save(model_iphi.state_dict(), 'Model/model_iphi_constant{}.pt'.format(today_hour))\n",
    "            print('Saved model at epoch {}'.format(epoch))\n",
    "\n",
    "            # visualize\n",
    "            # label\n",
    "        # if epoch % 20 == 0:\n",
    "        #     id1, id2 = 9,2  # 75 batchs 8 per batch\n",
    "        #     # i = id1*TEST_BATCH_SIZE + id2\n",
    "\n",
    "        #     # subplots\n",
    "        #     # gc\n",
    "\n",
    "        #     x_n, y_n = coordinates.iloc[:, 0], coordinates.iloc[:, 1]\n",
    "\n",
    "        #     plt.figure(figsize=(18, 7.5))\n",
    "        #     plt.subplot(1, 2, 1)\n",
    "        #     plt.scatter(x_n, y_n, c=data_list[id1][id2][:, 2], cmap='jet', s=10, vmin=0, vmax=6)\n",
    "        #     plt.colorbar()\n",
    "        #     plt.title('input gc field')\n",
    "\n",
    "\n",
    "        #     # original d\n",
    "        #     plt.figure(figsize=(18, 7.5))\n",
    "        #     plt.subplot(1, 2, 1)\n",
    "        #     plt.scatter(damage_x, damage_y, c=damage_list[id1][id2][:,2], cmap='jet', s=10)\n",
    "        #     plt.colorbar()\n",
    "        #     plt.title('Original d field')\n",
    "\n",
    "        #     # d\n",
    "        #     plt.figure(figsize=(18, 7.5))\n",
    "        #     plt.subplot(1, 2, 1)\n",
    "        #     plt.scatter(damage_x, damage_y, c=output_list[id1][id2], cmap='jet', s=10)\n",
    "        #     plt.colorbar()\n",
    "        #     plt.title('output d field')\n",
    "\n"
   ]
  }
 ],
 "metadata": {
  "kernelspec": {
   "display_name": "phasefield",
   "language": "python",
   "name": "python3"
  },
  "language_info": {
   "codemirror_mode": {
    "name": "ipython",
    "version": 3
   },
   "file_extension": ".py",
   "mimetype": "text/x-python",
   "name": "python",
   "nbconvert_exporter": "python",
   "pygments_lexer": "ipython3",
   "version": "3.8.13"
  },
  "orig_nbformat": 4,
  "vscode": {
   "interpreter": {
    "hash": "fb9419f644557548447ecb0f1119aef2567eb0b9ec92744eeb7ce809f1fc1aa3"
   }
  }
 },
 "nbformat": 4,
 "nbformat_minor": 2
}
