{
 "cells": [
  {
   "cell_type": "code",
   "execution_count": 25,
   "metadata": {},
   "outputs": [],
   "source": [
    "import numpy as np\n",
    "import pandas as pd\n",
    "import matplotlib.pyplot as plt\n",
    "import torch\n",
    "import torch.nn as nn\n",
    "import torch.nn.functional as F\n",
    "import torch.optim as optim\n",
    "import dadaptation\n",
    "import random\n",
    "\n",
    "\n",
    "from torch.optim import AdamW\n",
    "from torch.utils.data import Dataset, DataLoader\n",
    "from torchvision import transforms, utils\n",
    "\n",
    "import h5py\n",
    "import os\n",
    "import sys\n",
    "import pickle\n",
    "import json\n",
    "\n",
    "from utilities3 import *\n",
    "from sklearn.model_selection import train_test_split\n",
    "from Adam import Adam\n",
    "from timeit import default_timer\n",
    "from collections import OrderedDict\n",
    "\n",
    "# import local modules from FNO2D.py\n",
    "import FNO2D\n",
    "\n",
    "\n",
    "import wandb\n",
    "import datetime"
   ]
  },
  {
   "attachments": {},
   "cell_type": "markdown",
   "metadata": {},
   "source": [
    "### Define paths for data files"
   ]
  },
  {
   "cell_type": "code",
   "execution_count": 26,
   "metadata": {},
   "outputs": [],
   "source": [
    "gc_path = \"./Data/gc_array_filtered.npy\"\n",
    "d_path = \"./Data/d_sol_array_filtered.npy\"\n",
    "coordinates_path = \"./Data/Gc_out_coord.txt\"\n",
    "\n",
    "damage_coordinates_path = \"./Data/d_out_coord.txt\"\n",
    "\n",
    "d_reduced_path = \"./Data/d_reduced.npy\"\n",
    "gc_reduced_path = \"./Data/gc_reduced.npy\""
   ]
  },
  {
   "cell_type": "code",
   "execution_count": 27,
   "metadata": {},
   "outputs": [],
   "source": [
    "gc_ds_path = \"./downsampled_data/gc_downsampled_data_array.npy\"\n",
    "d_ds_path = \"./downsampled_data/d_downsampled_data_array.npy\"\n",
    "ds_coordinates_path = \"./downsampled_data/gc_downsampled_data_coord.npy\"\n",
    "\n",
    "d_ds_reduced_path = \"./downsampled_data/svd/d_reduced.npy\"\n",
    "gc_ds_reduced_path = \"./downsampled_data/svd/gc_reduced.npy\""
   ]
  },
  {
   "attachments": {},
   "cell_type": "markdown",
   "metadata": {},
   "source": [
    "### Set project name, seed configurations and device configurations"
   ]
  },
  {
   "cell_type": "code",
   "execution_count": 17,
   "metadata": {},
   "outputs": [],
   "source": [
    "# get device\n",
    "if torch.cuda.is_available():\n",
    "    DEVICE = \"cuda\"\n",
    "else:\n",
    "    DEVICE = \"cpu\"\n",
    "\n",
    "# PROJECT_NAME = 'FNO2D'\n",
    "PROJECT_NAME = 'PCA-NET'\n",
    "\n",
    "# Set the random seeds to improve reproducibility by removing stochasticity\n",
    "def set_seeds(seed):\n",
    "    random.seed(seed)\n",
    "    np.random.seed(seed)\n",
    "    torch.manual_seed(seed)\n",
    "    torch.cuda.manual_seed(seed)\n",
    "    torch.backends.cudnn.benchmark = False # Force cuDNN to use a consistent convolution algorithm\n",
    "    torch.backends.cudnn.deterministic = True # Force cuDNN to use deterministic algorithms if available\n",
    "    torch.use_deterministic_algorithms(True) # Force torch to use deterministic algorithms if available\n",
    "\n",
    "set_seeds(0)\n",
    "\n",
    "# for deterministic pytorch algorithms, enable reproducibility.\n",
    "os.environ['CUBLAS_WORKSPACE_CONFIG']= \":4096:8\""
   ]
  },
  {
   "cell_type": "markdown",
   "metadata": {},
   "source": [
    "# First create raw data of gc and d and upload to wandb"
   ]
  },
  {
   "cell_type": "code",
   "execution_count": 4,
   "metadata": {},
   "outputs": [],
   "source": [
    "# read data from given path\n",
    "gc = np.load(gc_path)\n",
    "d = np.load(d_path)\n",
    "\n",
    "# read coordinates csv file\n",
    "coordinates = pd.read_csv(coordinates_path, sep = \",\", header = None).values\n",
    "damage_coordinates = pd.read_csv(damage_coordinates_path, sep = \",\", header = None).values"
   ]
  },
  {
   "cell_type": "code",
   "execution_count": 5,
   "metadata": {},
   "outputs": [
    {
     "name": "stdout",
     "output_type": "stream",
     "text": [
      "gc shape:  (2010, 13172)\n",
      "d shape:  (2010, 6736)\n",
      "coordinates shape:  (13172, 2)\n",
      "damage_coordinates shape:  (6736, 2)\n"
     ]
    }
   ],
   "source": [
    "# unit test for shape of data\n",
    "assert len(gc) == len(d)\n",
    "assert len(gc[0]) == len(coordinates)\n",
    "\n",
    "# print out the shape of data\n",
    "print(\"gc shape: \", gc.shape)\n",
    "print(\"d shape: \", d.shape)\n",
    "print(\"coordinates shape: \", coordinates.shape)\n",
    "print(\"damage_coordinates shape: \", damage_coordinates.shape)\n"
   ]
  },
  {
   "cell_type": "code",
   "execution_count": 6,
   "metadata": {},
   "outputs": [],
   "source": [
    "# create numpy array with shape (len(gc), gc.shape[1], 2)\n",
    "input_mesh = np.zeros((len(gc), gc.shape[1], 2))\n",
    "damage_mesh = np.zeros((len(gc), d.shape[1], 2))\n",
    "\n",
    "# for each sample in input_mesh, add the coordinates\n",
    "for i in range(len(gc)):\n",
    "    input_mesh[i, :, :] = coordinates\n",
    "    damage_mesh[i, :, :] = damage_coordinates\n",
    "    \n",
    "# add gc to the last dimension of input_mesh to have shape of (len(gc), gc.shape[1], 3)\n",
    "gc_data = np.concatenate((input_mesh, np.expand_dims(gc, axis=2)), axis=2)\n",
    "damage_data = np.concatenate((damage_mesh, np.expand_dims(d, axis=2)), axis=2)"
   ]
  },
  {
   "cell_type": "code",
   "execution_count": 7,
   "metadata": {},
   "outputs": [],
   "source": [
    "# convert gc and d to hdf5 file\n",
    "gc_hdf5 = h5py.File(\"./Data/gc_data.hdf5\", \"w\")\n",
    "gc_hdf5.create_dataset(\"gc_data\", data = gc_data)\n",
    "gc_hdf5.close()\n",
    "\n",
    "d_hdf5 = h5py.File(\"./Data/damage_data.hdf5\", \"w\")\n",
    "d_hdf5.create_dataset(\"damage_data\", data = damage_data)\n",
    "d_hdf5.close()"
   ]
  },
  {
   "cell_type": "code",
   "execution_count": 35,
   "metadata": {},
   "outputs": [
    {
     "data": {
      "text/html": [
       "wandb version 0.13.9 is available!  To upgrade, please run:\n",
       " $ pip install wandb --upgrade"
      ],
      "text/plain": [
       "<IPython.core.display.HTML object>"
      ]
     },
     "metadata": {},
     "output_type": "display_data"
    },
    {
     "data": {
      "text/html": [
       "Tracking run with wandb version 0.12.15"
      ],
      "text/plain": [
       "<IPython.core.display.HTML object>"
      ]
     },
     "metadata": {},
     "output_type": "display_data"
    },
    {
     "data": {
      "text/html": [
       "Run data is saved locally in <code>/mnt/c/Users/Jin Yi/Documents/ArianaPHD/research/neural_operator/wandb/run-20230207_191428-3bz5oc3e</code>"
      ],
      "text/plain": [
       "<IPython.core.display.HTML object>"
      ]
     },
     "metadata": {},
     "output_type": "display_data"
    },
    {
     "data": {
      "text/html": [
       "Syncing run <strong><a href=\"https://wandb.ai/jyyresearch/FNO2D/runs/3bz5oc3e\" target=\"_blank\">comfy-smoke-83</a></strong> to <a href=\"https://wandb.ai/jyyresearch/FNO2D\" target=\"_blank\">Weights & Biases</a> (<a href=\"https://wandb.me/run\" target=\"_blank\">docs</a>)<br/>"
      ],
      "text/plain": [
       "<IPython.core.display.HTML object>"
      ]
     },
     "metadata": {},
     "output_type": "display_data"
    },
    {
     "data": {
      "text/html": [
       "Waiting for W&B process to finish... <strong style=\"color:green\">(success).</strong>"
      ],
      "text/plain": [
       "<IPython.core.display.HTML object>"
      ]
     },
     "metadata": {},
     "output_type": "display_data"
    },
    {
     "data": {
      "application/vnd.jupyter.widget-view+json": {
       "model_id": "35a2328edd7c451085ada3d265c0895d",
       "version_major": 2,
       "version_minor": 0
      },
      "text/plain": [
       "VBox(children=(Label(value='915.878 MB of 915.878 MB uploaded (0.000 MB deduped)\\r'), FloatProgress(value=1.0,…"
      ]
     },
     "metadata": {},
     "output_type": "display_data"
    },
    {
     "data": {
      "text/html": [
       "Synced <strong style=\"color:#cdcd00\">comfy-smoke-83</strong>: <a href=\"https://wandb.ai/jyyresearch/FNO2D/runs/3bz5oc3e\" target=\"_blank\">https://wandb.ai/jyyresearch/FNO2D/runs/3bz5oc3e</a><br/>Synced 5 W&B file(s), 0 media file(s), 2 artifact file(s) and 0 other file(s)"
      ],
      "text/plain": [
       "<IPython.core.display.HTML object>"
      ]
     },
     "metadata": {},
     "output_type": "display_data"
    },
    {
     "data": {
      "text/html": [
       "Find logs at: <code>./wandb/run-20230207_191428-3bz5oc3e/logs</code>"
      ],
      "text/plain": [
       "<IPython.core.display.HTML object>"
      ]
     },
     "metadata": {},
     "output_type": "display_data"
    }
   ],
   "source": [
    "with wandb.init(project=\"FNO2D\", entity=\"jyyresearch\", job_type=\"upload\") as run:\n",
    "    raw_data_at = wandb.Artifact(\"fracture-damage-raw-data\", type=\"raw_data\")\n",
    "    raw_data_at.add_file(\"Data/gc_data.hdf5\", name=\"gc_data\")\n",
    "    raw_data_at.add_file(\"Data/damage_data.hdf5\", name=\"damage_data\")\n",
    "    run.log_artifact(raw_data_at)\n",
    "    run.finish()"
   ]
  },
  {
   "attachments": {},
   "cell_type": "markdown",
   "metadata": {},
   "source": [
    "# Create reduced dataset of gc and d and upload to wandb"
   ]
  },
  {
   "cell_type": "code",
   "execution_count": 22,
   "metadata": {},
   "outputs": [],
   "source": [
    "gc_reduced = np.load(\"./Data/gc_reduced.npy\")\n",
    "d_reduced = np.load(\"./Data/d_reduced.npy\")\n",
    "\n",
    "gc_reduced_hdf5 = h5py.File(\"./Data/gc_reduced.hdf5\", \"w\")\n",
    "gc_reduced_hdf5.create_dataset(\"gc_reduced\", data = gc_reduced)\n",
    "gc_reduced_hdf5.close()\n",
    "\n",
    "d_reduced_hdf5 = h5py.File(\"./Data/d_reduced.hdf5\", \"w\")\n",
    "d_reduced_hdf5.create_dataset(\"d_reduced\", data = d_reduced)\n",
    "d_reduced_hdf5.close()"
   ]
  },
  {
   "cell_type": "code",
   "execution_count": 36,
   "metadata": {},
   "outputs": [
    {
     "name": "stdout",
     "output_type": "stream",
     "text": [
      "gc_reduced shape:  (2010, 377)\n",
      "d_reduced shape:  (2010, 630)\n"
     ]
    }
   ],
   "source": [
    "print(\"gc_reduced shape: \", gc_reduced.shape)\n",
    "print(\"d_reduced shape: \", d_reduced.shape)"
   ]
  },
  {
   "cell_type": "code",
   "execution_count": 9,
   "metadata": {},
   "outputs": [
    {
     "data": {
      "text/html": [
       "wandb version 0.13.9 is available!  To upgrade, please run:\n",
       " $ pip install wandb --upgrade"
      ],
      "text/plain": [
       "<IPython.core.display.HTML object>"
      ]
     },
     "metadata": {},
     "output_type": "display_data"
    },
    {
     "data": {
      "text/html": [
       "Tracking run with wandb version 0.12.15"
      ],
      "text/plain": [
       "<IPython.core.display.HTML object>"
      ]
     },
     "metadata": {},
     "output_type": "display_data"
    },
    {
     "data": {
      "text/html": [
       "Run data is saved locally in <code>/mnt/c/Users/Jin Yi/Documents/ArianaPHD/research/neural_operator/wandb/run-20230207_215018-1ri6k42x</code>"
      ],
      "text/plain": [
       "<IPython.core.display.HTML object>"
      ]
     },
     "metadata": {},
     "output_type": "display_data"
    },
    {
     "data": {
      "text/html": [
       "Syncing run <strong><a href=\"https://wandb.ai/jyyresearch/FNO2D/runs/1ri6k42x\" target=\"_blank\">pleasant-frog-86</a></strong> to <a href=\"https://wandb.ai/jyyresearch/FNO2D\" target=\"_blank\">Weights & Biases</a> (<a href=\"https://wandb.me/run\" target=\"_blank\">docs</a>)<br/>"
      ],
      "text/plain": [
       "<IPython.core.display.HTML object>"
      ]
     },
     "metadata": {},
     "output_type": "display_data"
    },
    {
     "data": {
      "text/html": [
       "Waiting for W&B process to finish... <strong style=\"color:green\">(success).</strong>"
      ],
      "text/plain": [
       "<IPython.core.display.HTML object>"
      ]
     },
     "metadata": {},
     "output_type": "display_data"
    },
    {
     "data": {
      "application/vnd.jupyter.widget-view+json": {
       "model_id": "1a61a6e8c99543349e1e0848b7429bb9",
       "version_major": 2,
       "version_minor": 0
      },
      "text/plain": [
       "VBox(children=(Label(value='15.447 MB of 15.447 MB uploaded (15.446 MB deduped)\\r'), FloatProgress(value=1.0, …"
      ]
     },
     "metadata": {},
     "output_type": "display_data"
    },
    {
     "data": {
      "text/html": [
       "W&B sync reduced upload amount by 100.0%             "
      ],
      "text/plain": [
       "<IPython.core.display.HTML object>"
      ]
     },
     "metadata": {},
     "output_type": "display_data"
    },
    {
     "data": {
      "text/html": [
       "Synced <strong style=\"color:#cdcd00\">pleasant-frog-86</strong>: <a href=\"https://wandb.ai/jyyresearch/FNO2D/runs/1ri6k42x\" target=\"_blank\">https://wandb.ai/jyyresearch/FNO2D/runs/1ri6k42x</a><br/>Synced 5 W&B file(s), 0 media file(s), 2 artifact file(s) and 0 other file(s)"
      ],
      "text/plain": [
       "<IPython.core.display.HTML object>"
      ]
     },
     "metadata": {},
     "output_type": "display_data"
    },
    {
     "data": {
      "text/html": [
       "Find logs at: <code>./wandb/run-20230207_215018-1ri6k42x/logs</code>"
      ],
      "text/plain": [
       "<IPython.core.display.HTML object>"
      ]
     },
     "metadata": {},
     "output_type": "display_data"
    }
   ],
   "source": [
    "with wandb.init(project=PROJECT_NAME, entity=\"jyyresearch\", job_type=\"upload_reduced\") as run:\n",
    "    reduced_data_at = wandb.Artifact(\"fracture-damage-reduced-data\", type=\"reduced_data\")\n",
    "    reduced_data_at.add_file(\"Data/gc_reduced.hdf5\", name=\"gc_reduced\")\n",
    "    reduced_data_at.add_file(\"Data/d_reduced.hdf5\", name=\"d_reduced\")\n",
    "    run.log_artifact(reduced_data_at)\n",
    "    run.finish()"
   ]
  },
  {
   "attachments": {},
   "cell_type": "markdown",
   "metadata": {},
   "source": [
    "# Create DOWNSAMPLED data AND reduced dataset of gc and d and upload to wandb"
   ]
  },
  {
   "cell_type": "code",
   "execution_count": 28,
   "metadata": {},
   "outputs": [
    {
     "name": "stdout",
     "output_type": "stream",
     "text": [
      "gc shape:  (2010, 4786)\n",
      "d shape:  (2010, 4786)\n",
      "coordinates shape:  (4786, 2)\n"
     ]
    }
   ],
   "source": [
    "# read data from given path\n",
    "gc_data = np.load(gc_ds_path)\n",
    "d_data = np.load(d_ds_path)\n",
    "coordinates = np.load(ds_coordinates_path)\n",
    "\n",
    "# unit test for shape of data\n",
    "assert len(gc) == len(d)\n",
    "assert len(gc[0]) == len(coordinates)\n",
    "\n",
    "# print out the shape of data\n",
    "print(\"gc shape: \", gc.shape)\n",
    "print(\"d shape: \", d.shape)\n",
    "print(\"coordinates shape: \", coordinates.shape)"
   ]
  },
  {
   "cell_type": "code",
   "execution_count": 29,
   "metadata": {},
   "outputs": [],
   "source": [
    "# convert gc and d to hdf5 file\n",
    "gc_hdf5 = h5py.File(\"./downsampled_data/gc_data.hdf5\", \"w\")\n",
    "gc_hdf5.create_dataset(\"gc_data\", data = gc_data)\n",
    "gc_hdf5.close()\n",
    "\n",
    "d_hdf5 = h5py.File(\"./downsampled_data/damage_data.hdf5\", \"w\")\n",
    "d_hdf5.create_dataset(\"damage_data\", data = d_data)\n",
    "d_hdf5.close()"
   ]
  },
  {
   "cell_type": "code",
   "execution_count": 30,
   "metadata": {},
   "outputs": [
    {
     "data": {
      "text/html": [
       "wandb version 0.13.10 is available!  To upgrade, please run:\n",
       " $ pip install wandb --upgrade"
      ],
      "text/plain": [
       "<IPython.core.display.HTML object>"
      ]
     },
     "metadata": {},
     "output_type": "display_data"
    },
    {
     "data": {
      "text/html": [
       "Tracking run with wandb version 0.12.15"
      ],
      "text/plain": [
       "<IPython.core.display.HTML object>"
      ]
     },
     "metadata": {},
     "output_type": "display_data"
    },
    {
     "data": {
      "text/html": [
       "Run data is saved locally in <code>/mnt/c/Users/Jin Yi/Documents/ArianaPHD/research/neural_operator/wandb/run-20230215_012153-3682i2u4</code>"
      ],
      "text/plain": [
       "<IPython.core.display.HTML object>"
      ]
     },
     "metadata": {},
     "output_type": "display_data"
    },
    {
     "data": {
      "text/html": [
       "Syncing run <strong><a href=\"https://wandb.ai/jyyresearch/PCA-NET/runs/3682i2u4\" target=\"_blank\">enticing-cupid-390</a></strong> to <a href=\"https://wandb.ai/jyyresearch/PCA-NET\" target=\"_blank\">Weights & Biases</a> (<a href=\"https://wandb.me/run\" target=\"_blank\">docs</a>)<br/>"
      ],
      "text/plain": [
       "<IPython.core.display.HTML object>"
      ]
     },
     "metadata": {},
     "output_type": "display_data"
    },
    {
     "data": {
      "text/html": [
       "Waiting for W&B process to finish... <strong style=\"color:green\">(success).</strong>"
      ],
      "text/plain": [
       "<IPython.core.display.HTML object>"
      ]
     },
     "metadata": {},
     "output_type": "display_data"
    },
    {
     "data": {
      "application/vnd.jupyter.widget-view+json": {
       "model_id": "cbf5d9cf59e740f283fb08ff2a32b3d1",
       "version_major": 2,
       "version_minor": 0
      },
      "text/plain": [
       "VBox(children=(Label(value='146.792 MB of 146.792 MB uploaded (0.000 MB deduped)\\r'), FloatProgress(value=1.0,…"
      ]
     },
     "metadata": {},
     "output_type": "display_data"
    },
    {
     "data": {
      "text/html": [
       "Synced <strong style=\"color:#cdcd00\">enticing-cupid-390</strong>: <a href=\"https://wandb.ai/jyyresearch/PCA-NET/runs/3682i2u4\" target=\"_blank\">https://wandb.ai/jyyresearch/PCA-NET/runs/3682i2u4</a><br/>Synced 5 W&B file(s), 0 media file(s), 2 artifact file(s) and 0 other file(s)"
      ],
      "text/plain": [
       "<IPython.core.display.HTML object>"
      ]
     },
     "metadata": {},
     "output_type": "display_data"
    },
    {
     "data": {
      "text/html": [
       "Find logs at: <code>./wandb/run-20230215_012153-3682i2u4/logs</code>"
      ],
      "text/plain": [
       "<IPython.core.display.HTML object>"
      ]
     },
     "metadata": {},
     "output_type": "display_data"
    }
   ],
   "source": [
    "with wandb.init(project=\"PCA-NET\", entity=\"jyyresearch\", job_type=\"upload\") as run:\n",
    "    raw_data_at = wandb.Artifact(\"fracture-damage-downsampled-raw-data\", type=\"raw_data\")\n",
    "    raw_data_at.add_file(\"downsampled_data/gc_data.hdf5\", name=\"gc_data\")\n",
    "    raw_data_at.add_file(\"downsampled_data/damage_data.hdf5\", name=\"damage_data\")\n",
    "    run.log_artifact(raw_data_at)\n",
    "    run.finish()"
   ]
  },
  {
   "attachments": {},
   "cell_type": "markdown",
   "metadata": {},
   "source": [
    "# Create reduced dataset for DOWNSAMPLED gc and d and upload to wandb"
   ]
  },
  {
   "cell_type": "code",
   "execution_count": 31,
   "metadata": {},
   "outputs": [],
   "source": [
    "gc_reduced = np.load(gc_ds_reduced_path)\n",
    "d_reduced = np.load(d_ds_reduced_path)\n",
    "\n",
    "gc_reduced_hdf5 = h5py.File(\"./downsampled_data/gc_reduced.hdf5\", \"w\")\n",
    "gc_reduced_hdf5.create_dataset(\"gc_reduced\", data = gc_reduced)\n",
    "gc_reduced_hdf5.close()\n",
    "\n",
    "d_reduced_hdf5 = h5py.File(\"./downsampled_data/d_reduced.hdf5\", \"w\")\n",
    "d_reduced_hdf5.create_dataset(\"d_reduced\", data = d_reduced)\n",
    "d_reduced_hdf5.close()"
   ]
  },
  {
   "cell_type": "code",
   "execution_count": 32,
   "metadata": {},
   "outputs": [
    {
     "name": "stdout",
     "output_type": "stream",
     "text": [
      "gc_reduced shape:  (2010, 379)\n",
      "d_reduced shape:  (2010, 523)\n"
     ]
    }
   ],
   "source": [
    "print(\"gc_reduced shape: \", gc_reduced.shape)\n",
    "print(\"d_reduced shape: \", d_reduced.shape)"
   ]
  },
  {
   "cell_type": "code",
   "execution_count": 33,
   "metadata": {},
   "outputs": [
    {
     "data": {
      "text/html": [
       "wandb version 0.13.10 is available!  To upgrade, please run:\n",
       " $ pip install wandb --upgrade"
      ],
      "text/plain": [
       "<IPython.core.display.HTML object>"
      ]
     },
     "metadata": {},
     "output_type": "display_data"
    },
    {
     "data": {
      "text/html": [
       "Tracking run with wandb version 0.12.15"
      ],
      "text/plain": [
       "<IPython.core.display.HTML object>"
      ]
     },
     "metadata": {},
     "output_type": "display_data"
    },
    {
     "data": {
      "text/html": [
       "Run data is saved locally in <code>/mnt/c/Users/Jin Yi/Documents/ArianaPHD/research/neural_operator/wandb/run-20230215_012301-2vd2akwf</code>"
      ],
      "text/plain": [
       "<IPython.core.display.HTML object>"
      ]
     },
     "metadata": {},
     "output_type": "display_data"
    },
    {
     "data": {
      "text/html": [
       "Syncing run <strong><a href=\"https://wandb.ai/jyyresearch/PCA-NET/runs/2vd2akwf\" target=\"_blank\">attractive-etchings-391</a></strong> to <a href=\"https://wandb.ai/jyyresearch/PCA-NET\" target=\"_blank\">Weights & Biases</a> (<a href=\"https://wandb.me/run\" target=\"_blank\">docs</a>)<br/>"
      ],
      "text/plain": [
       "<IPython.core.display.HTML object>"
      ]
     },
     "metadata": {},
     "output_type": "display_data"
    },
    {
     "data": {
      "text/html": [
       "Waiting for W&B process to finish... <strong style=\"color:green\">(success).</strong>"
      ],
      "text/plain": [
       "<IPython.core.display.HTML object>"
      ]
     },
     "metadata": {},
     "output_type": "display_data"
    },
    {
     "data": {
      "application/vnd.jupyter.widget-view+json": {
       "model_id": "13fb73c30e6a4badb6912dbcec0a9e4b",
       "version_major": 2,
       "version_minor": 0
      },
      "text/plain": [
       "VBox(children=(Label(value='13.837 MB of 13.837 MB uploaded (0.000 MB deduped)\\r'), FloatProgress(value=1.0, m…"
      ]
     },
     "metadata": {},
     "output_type": "display_data"
    },
    {
     "data": {
      "text/html": [
       "Synced <strong style=\"color:#cdcd00\">attractive-etchings-391</strong>: <a href=\"https://wandb.ai/jyyresearch/PCA-NET/runs/2vd2akwf\" target=\"_blank\">https://wandb.ai/jyyresearch/PCA-NET/runs/2vd2akwf</a><br/>Synced 5 W&B file(s), 0 media file(s), 2 artifact file(s) and 0 other file(s)"
      ],
      "text/plain": [
       "<IPython.core.display.HTML object>"
      ]
     },
     "metadata": {},
     "output_type": "display_data"
    },
    {
     "data": {
      "text/html": [
       "Find logs at: <code>./wandb/run-20230215_012301-2vd2akwf/logs</code>"
      ],
      "text/plain": [
       "<IPython.core.display.HTML object>"
      ]
     },
     "metadata": {},
     "output_type": "display_data"
    }
   ],
   "source": [
    "with wandb.init(project=\"PCA-NET\", entity=\"jyyresearch\", job_type=\"upload_reduced\") as run:\n",
    "    reduced_data_at = wandb.Artifact(\"fracture-damage-downsampled-reduced-data\", type=\"reduced_data\")\n",
    "    reduced_data_at.add_file(\"downsampled_data/gc_reduced.hdf5\", name=\"gc_reduced\")\n",
    "    reduced_data_at.add_file(\"downsampled_data/d_reduced.hdf5\", name=\"d_reduced\")\n",
    "    run.log_artifact(reduced_data_at)\n",
    "    run.finish()"
   ]
  },
  {
   "attachments": {},
   "cell_type": "markdown",
   "metadata": {},
   "source": [
    "### We also upload the mesh of gc and d respectively for logging purposes"
   ]
  },
  {
   "cell_type": "code",
   "execution_count": 8,
   "metadata": {},
   "outputs": [
    {
     "name": "stderr",
     "output_type": "stream",
     "text": [
      "Failed to detect the name of this notebook, you can set it manually with the WANDB_NOTEBOOK_NAME environment variable to enable code saving.\n",
      "\u001b[34m\u001b[1mwandb\u001b[0m: Currently logged in as: \u001b[33mjyyresearch\u001b[0m (use `wandb login --relogin` to force relogin)\n"
     ]
    },
    {
     "data": {
      "text/html": [
       "wandb version 0.13.9 is available!  To upgrade, please run:\n",
       " $ pip install wandb --upgrade"
      ],
      "text/plain": [
       "<IPython.core.display.HTML object>"
      ]
     },
     "metadata": {},
     "output_type": "display_data"
    },
    {
     "data": {
      "text/html": [
       "Tracking run with wandb version 0.12.15"
      ],
      "text/plain": [
       "<IPython.core.display.HTML object>"
      ]
     },
     "metadata": {},
     "output_type": "display_data"
    },
    {
     "data": {
      "text/html": [
       "Run data is saved locally in <code>/mnt/c/Users/Jin Yi/Documents/ArianaPHD/research/neural_operator/wandb/run-20230207_215004-gtw1x9q5</code>"
      ],
      "text/plain": [
       "<IPython.core.display.HTML object>"
      ]
     },
     "metadata": {},
     "output_type": "display_data"
    },
    {
     "data": {
      "text/html": [
       "Syncing run <strong><a href=\"https://wandb.ai/jyyresearch/FNO2D/runs/gtw1x9q5\" target=\"_blank\">morning-fog-85</a></strong> to <a href=\"https://wandb.ai/jyyresearch/FNO2D\" target=\"_blank\">Weights & Biases</a> (<a href=\"https://wandb.me/run\" target=\"_blank\">docs</a>)<br/>"
      ],
      "text/plain": [
       "<IPython.core.display.HTML object>"
      ]
     },
     "metadata": {},
     "output_type": "display_data"
    },
    {
     "data": {
      "text/html": [
       "Waiting for W&B process to finish... <strong style=\"color:green\">(success).</strong>"
      ],
      "text/plain": [
       "<IPython.core.display.HTML object>"
      ]
     },
     "metadata": {},
     "output_type": "display_data"
    },
    {
     "data": {
      "application/vnd.jupyter.widget-view+json": {
       "model_id": "b5a6b45f0bda4e629bc74ee36d7bcada",
       "version_major": 2,
       "version_minor": 0
      },
      "text/plain": [
       "VBox(children=(Label(value='0.950 MB of 0.950 MB uploaded (0.000 MB deduped)\\r'), FloatProgress(value=1.0, max…"
      ]
     },
     "metadata": {},
     "output_type": "display_data"
    },
    {
     "data": {
      "text/html": [
       "Synced <strong style=\"color:#cdcd00\">morning-fog-85</strong>: <a href=\"https://wandb.ai/jyyresearch/FNO2D/runs/gtw1x9q5\" target=\"_blank\">https://wandb.ai/jyyresearch/FNO2D/runs/gtw1x9q5</a><br/>Synced 5 W&B file(s), 0 media file(s), 2 artifact file(s) and 0 other file(s)"
      ],
      "text/plain": [
       "<IPython.core.display.HTML object>"
      ]
     },
     "metadata": {},
     "output_type": "display_data"
    },
    {
     "data": {
      "text/html": [
       "Find logs at: <code>./wandb/run-20230207_215004-gtw1x9q5/logs</code>"
      ],
      "text/plain": [
       "<IPython.core.display.HTML object>"
      ]
     },
     "metadata": {},
     "output_type": "display_data"
    }
   ],
   "source": [
    "with wandb.init(project=PROJECT_NAME, entity=\"jyyresearch\", job_type=\"upload_coordinates\") as run:\n",
    "    coordinates = wandb.Artifact(\"fracture-damage-coordinates\", type=\"coordinates\")\n",
    "    coordinates.add_file(\"Data/gc_out_coord.txt\", name=\"gc_out_coord\")\n",
    "    coordinates.add_file(\"Data/d_out_coord.txt\", name=\"d_out_coord\")\n",
    "    run.log_artifact(coordinates)\n",
    "    run.finish()"
   ]
  },
  {
   "attachments": {},
   "cell_type": "markdown",
   "metadata": {},
   "source": [
    "### We also upload the mesh of DOWNSAMPLED gc and d respectively for logging purposes"
   ]
  },
  {
   "cell_type": "code",
   "execution_count": 34,
   "metadata": {},
   "outputs": [
    {
     "data": {
      "text/html": [
       "wandb version 0.13.10 is available!  To upgrade, please run:\n",
       " $ pip install wandb --upgrade"
      ],
      "text/plain": [
       "<IPython.core.display.HTML object>"
      ]
     },
     "metadata": {},
     "output_type": "display_data"
    },
    {
     "data": {
      "text/html": [
       "Tracking run with wandb version 0.12.15"
      ],
      "text/plain": [
       "<IPython.core.display.HTML object>"
      ]
     },
     "metadata": {},
     "output_type": "display_data"
    },
    {
     "data": {
      "text/html": [
       "Run data is saved locally in <code>/mnt/c/Users/Jin Yi/Documents/ArianaPHD/research/neural_operator/wandb/run-20230215_012329-bmtjxfst</code>"
      ],
      "text/plain": [
       "<IPython.core.display.HTML object>"
      ]
     },
     "metadata": {},
     "output_type": "display_data"
    },
    {
     "data": {
      "text/html": [
       "Syncing run <strong><a href=\"https://wandb.ai/jyyresearch/PCA-NET/runs/bmtjxfst\" target=\"_blank\">enamored-crush-392</a></strong> to <a href=\"https://wandb.ai/jyyresearch/PCA-NET\" target=\"_blank\">Weights & Biases</a> (<a href=\"https://wandb.me/run\" target=\"_blank\">docs</a>)<br/>"
      ],
      "text/plain": [
       "<IPython.core.display.HTML object>"
      ]
     },
     "metadata": {},
     "output_type": "display_data"
    },
    {
     "data": {
      "text/html": [
       "Waiting for W&B process to finish... <strong style=\"color:green\">(success).</strong>"
      ],
      "text/plain": [
       "<IPython.core.display.HTML object>"
      ]
     },
     "metadata": {},
     "output_type": "display_data"
    },
    {
     "data": {
      "application/vnd.jupyter.widget-view+json": {
       "model_id": "e4ade1eadd0a4c08b58c503bb5e04d91",
       "version_major": 2,
       "version_minor": 0
      },
      "text/plain": [
       "VBox(children=(Label(value='0.000 MB of 0.001 MB uploaded (0.000 MB deduped)\\r'), FloatProgress(value=0.0, max…"
      ]
     },
     "metadata": {},
     "output_type": "display_data"
    },
    {
     "data": {
      "text/html": [
       "Synced <strong style=\"color:#cdcd00\">enamored-crush-392</strong>: <a href=\"https://wandb.ai/jyyresearch/PCA-NET/runs/bmtjxfst\" target=\"_blank\">https://wandb.ai/jyyresearch/PCA-NET/runs/bmtjxfst</a><br/>Synced 5 W&B file(s), 0 media file(s), 0 artifact file(s) and 0 other file(s)"
      ],
      "text/plain": [
       "<IPython.core.display.HTML object>"
      ]
     },
     "metadata": {},
     "output_type": "display_data"
    },
    {
     "data": {
      "text/html": [
       "Find logs at: <code>./wandb/run-20230215_012329-bmtjxfst/logs</code>"
      ],
      "text/plain": [
       "<IPython.core.display.HTML object>"
      ]
     },
     "metadata": {},
     "output_type": "display_data"
    }
   ],
   "source": [
    "with wandb.init(project=\"PCA-NET\", entity=\"jyyresearch\", job_type=\"upload_coordinates\") as run:\n",
    "    coordinates = wandb.Artifact(\"fracture-damage-downsampled-coordinates\", type=\"coordinates\")\n",
    "    coordinates.add_file(ds_coordinates_path, name=\"ver_coord\")\n",
    "    run.log_artifact(coordinates)\n",
    "    run.finish()"
   ]
  },
  {
   "cell_type": "code",
   "execution_count": null,
   "metadata": {},
   "outputs": [],
   "source": []
  }
 ],
 "metadata": {
  "kernelspec": {
   "display_name": "phasefield",
   "language": "python",
   "name": "python3"
  },
  "language_info": {
   "codemirror_mode": {
    "name": "ipython",
    "version": 3
   },
   "file_extension": ".py",
   "mimetype": "text/x-python",
   "name": "python",
   "nbconvert_exporter": "python",
   "pygments_lexer": "ipython3",
   "version": "3.8.16"
  },
  "orig_nbformat": 4,
  "vscode": {
   "interpreter": {
    "hash": "fb9419f644557548447ecb0f1119aef2567eb0b9ec92744eeb7ce809f1fc1aa3"
   }
  }
 },
 "nbformat": 4,
 "nbformat_minor": 2
}
